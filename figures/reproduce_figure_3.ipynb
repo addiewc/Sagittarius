{
 "cells": [
  {
   "cell_type": "markdown",
   "id": "cfb481e5",
   "metadata": {},
   "source": [
    "# Python notebook to reproduce _Figure 3_"
   ]
  },
  {
   "cell_type": "code",
   "execution_count": 1,
   "id": "cacc8adb",
   "metadata": {},
   "outputs": [],
   "source": [
    "import os\n",
    "import sys\n",
    "import matplotlib.pyplot as plt\n",
    "import torch\n",
    "import anndata\n",
    "import numpy as np\n",
    "import json\n",
    "\n",
    "sys.path.append(os.path.join(sys.path[0], '../'))\n",
    "import plot_settings\n",
    "import plot_utils\n",
    "from figures.additional_utils import aging_utils, velocity_plot_utils"
   ]
  },
  {
   "cell_type": "code",
   "execution_count": 2,
   "id": "e8c9e6a5",
   "metadata": {},
   "outputs": [],
   "source": [
    "import warnings\n",
    "warnings.filterwarnings('ignore')"
   ]
  },
  {
   "cell_type": "code",
   "execution_count": null,
   "id": "6bf25874",
   "metadata": {},
   "outputs": [],
   "source": []
  },
  {
   "cell_type": "code",
   "execution_count": 3,
   "id": "cad4eac8",
   "metadata": {},
   "outputs": [],
   "source": [
    "fig_dir = 'figure_3/'\n",
    "if not os.path.exists(fig_dir):\n",
    "    os.makedirs(fig_dir)"
   ]
  },
  {
   "cell_type": "code",
   "execution_count": null,
   "id": "31254ce3",
   "metadata": {},
   "outputs": [],
   "source": []
  },
  {
   "cell_type": "code",
   "execution_count": 4,
   "id": "6efbae1d",
   "metadata": {},
   "outputs": [],
   "source": [
    "data, organs, gen_ts = aging_utils.load_imputed_early_development_data('Mouse', -5, 13)"
   ]
  },
  {
   "cell_type": "code",
   "execution_count": 5,
   "id": "09bb5cc8",
   "metadata": {},
   "outputs": [],
   "source": [
    "N, T, M = data['Brain'].shape"
   ]
  },
  {
   "cell_type": "code",
   "execution_count": 6,
   "id": "d6760201",
   "metadata": {},
   "outputs": [],
   "source": [
    "organ_listing = [org for org in organs for _ in range(N) for _ in range(T)]\n",
    "time_listing = []\n",
    "for org in organs:\n",
    "    ts = []\n",
    "    for n in range(N):\n",
    "        ts.append(np.arange(-5, 13, 0.1))\n",
    "    time_listing.append(np.stack(ts, axis=0))\n",
    "time_listing = np.stack(time_listing, axis=0)\n",
    "time_listing = time_listing.reshape(-1)"
   ]
  },
  {
   "cell_type": "code",
   "execution_count": null,
   "id": "c481f689",
   "metadata": {},
   "outputs": [],
   "source": []
  },
  {
   "cell_type": "markdown",
   "id": "2ebe674b",
   "metadata": {},
   "source": [
    "Processing for 3a,b"
   ]
  },
  {
   "cell_type": "code",
   "execution_count": null,
   "id": "6c762e4b",
   "metadata": {},
   "outputs": [],
   "source": [
    "from umap import UMAP\n",
    "\n",
    "umap_seed = 0\n",
    "\n",
    "full_data = np.stack([data[org] for org in data], axis=0)  # O x N x T x M\n",
    "flattened_data = full_data.reshape(-1, M)\n",
    "\n",
    "umap_data = UMAP(random_state=umap_seed, n_neighbors=100, min_dist=0.6).fit_transform(flattened_data)\n",
    "shaped_umap_data = uamp_data.reshape(-1, N, T, 2)\n",
    "\n",
    "shaped_umap_velocity = []\n",
    "for org in range(len(organs)):\n",
    "    vels = []\n",
    "    for n in range(N):\n",
    "        vels.append(np.stack(\n",
    "            [shaped_umap_data[org][n][t+1] - shaped_umap_data[org][n][t-1] if t != T-1 else np.zeros((2))\n",
    "             for t in range(T)], axis=0))\n",
    "    shaped_umap_velocity.append(np.stack(vels, axis=0))\n",
    "    \n",
    "shaped_umap_velocity = np.stack(shaped_umap_velocity, axis=0)\n",
    "umap_velocity = shaped_umap_velocity.reshape(-1, 2)\n",
    "\n",
    "def moving_average_results(vel, minT, maxT, granularity, k=None, restrict_to_indices=False):    \n",
    "    N, Tfull, _ = vel.shape\n",
    "    smoothed_vel = []\n",
    "    if k is None:\n",
    "        k = int(1. / granularity)\n",
    "    imputed_ts = np.arange(minT, maxT, granularity)\n",
    "    for t in range(Tfull):\n",
    "        mint = max(0, t-k)\n",
    "        maxt = min(Tfull, t+k)\n",
    "        \n",
    "        if not restrict_to_indices or abs(imputed_ts[t] - np.round(imputed_ts[t])) < 1e-2:\n",
    "            avg = np.mean(vel[:, mint:maxt, :], axis=1)  # N x M\n",
    "            if not restrict_to_indices:\n",
    "                smoothed_vel.append(avg)\n",
    "            else:\n",
    "                cnt = int(1. / granularity)\n",
    "                smoothed_vel.extend([avg for _ in range(cnt)])\n",
    "    return np.stack(smoothed_vel, axis=1)  # N x Tfull x M\n",
    "\n",
    "avg_umap_velocities = np.mean(shaped_umap_velocity, axis=1)\n",
    "smoothed_avg_vels = moving_average_results(avg_umap_velocities, -5, 13, 0.1, 1, True)\n",
    "avg_umap_velocities = np.stack([avg_umap_velocities for _ in range(N)], axis=1)\n",
    "smoothed_avg_velocities = np.stack([smoothed_avg_vels for _ in range(N)], axis=1)\n",
    "flat_avg_umap_velocities = avg_umap_velocities.reshape(-1, 2)\n",
    "flat_smoothed_avg_vels = smoothed_avg_velocities.reshape(-1, 2)"
   ]
  },
  {
   "cell_type": "markdown",
   "id": "9b9dd756",
   "metadata": {},
   "source": [
    "# Code to reproduce figure 3"
   ]
  },
  {
   "cell_type": "markdown",
   "id": "6823c3ac",
   "metadata": {},
   "source": [
    "Fig. 3a"
   ]
  },
  {
   "cell_type": "code",
   "execution_count": null,
   "id": "2e0fa343",
   "metadata": {},
   "outputs": [],
   "source": [
    "%matplotlib inline\n",
    "\n",
    "from importlib import reload\n",
    "reload(plot_settings)\n",
    "\n",
    "ax = plot_settings.get_double_square_axis()\n",
    "xid = 7\n",
    "colors = plot_settings.get_organ_color_palette()\n",
    "organ_ordering = ['Brain', 'Cerebellum', 'Heart', 'Kidney', 'Ovary', 'Testis', 'Liver']\n",
    "for i, org in enumerate(organ_ordering[:xid]):\n",
    "    idxs = np.where(np.asarray(organ_listing) == org)\n",
    "    org_adata = anndata.AnnData(flattened_data[idxs])\n",
    "    org_adata.obs['organ'] = np.asarray(organ_listing)[idxs]\n",
    "    org_adata.obs['time'] = time_listing.astype(np.float64)[idxs]\n",
    "    org_adata.obsm['X_tsne'] = umap_data[idxs]\n",
    "\n",
    "    velocity_plot_utils.velocity_embedding_stream(\n",
    "        org_adata, V=flat_smoothed_avg_vels[idxs], n_neighbors=100, cutoff_perc=5, \n",
    "        alpha=0.3, density=0.1, smooth=1.0, size=200, linewidth=2, \n",
    "        color=colors[i], arrowsize=4, ax=ax, arrow_color='whitesmoke', \n",
    "        legend_loc='upper right')\n",
    "    \n",
    "lp = lambda i: plt.plot([],color=colors[i], ms=10, \n",
    "                        mec=\"none\", label=organ_ordering[i], ls=\"\", \n",
    "                        marker=\"o\")[0]\n",
    "handles = [lp(i) for i in range(len(organs[:xid]))]\n",
    "\n",
    "ax.set_xlabel('UMAP 1')\n",
    "ax.set_ylabel('UMAP 2')\n",
    "plot_utils.format_legend(ax, handles, organ_ordering[:xid])\n",
    "plot_utils.put_legend_outside_plot(ax)\n",
    "plot_utils.format_ax(ax)\n",
    "plt.savefig(fig_dir + 'figure_3a.pdf')"
   ]
  },
  {
   "cell_type": "markdown",
   "id": "21ac6465",
   "metadata": {},
   "source": [
    "Fig. 3b"
   ]
  },
  {
   "cell_type": "code",
   "execution_count": null,
   "id": "a775c252",
   "metadata": {
    "scrolled": false
   },
   "outputs": [],
   "source": [
    "ax = plot_settings.get_double_square_axis()\n",
    "\n",
    "colorbar_ticks = []\n",
    "\n",
    "for i, org in enumerate(organs):\n",
    "    idxs = np.where(np.asarray(organ_listing) == org)\n",
    "    org_adata = anndata.AnnData(flattened_data[idxs])\n",
    "    org_adata.obs['organ'] = np.asarray(organ_listing)[idxs]\n",
    "    org_adata.obs['time'] = time_listing.astype(np.float64)[idxs]\n",
    "    org_adata.obsm['X_tsne'] = umap_data[idxs]\n",
    "\n",
    "    velocity_plot_utils.velocity_embedding_stream(\n",
    "        org_adata, V=flat_smoothed_avg_vels[idxs], \n",
    "        n_neighbors=100, cutoff_perc=1, color='time', \n",
    "        alpha=0.3, density=0.1, smooth=1.0,\n",
    "        size=200, linewidth=0, arrowsize=0, ax=ax,\n",
    "        arrow_color='whitesmoke', \n",
    "        color_map='magma_r', legend_loc='upper right')\n",
    "    \n",
    "ax.set_xlabel('UMAP 1')\n",
    "ax.set_ylabel('UMAP 2')\n",
    "plot_utils.format_ax(ax)\n",
    "plt.savefig(fig_dir + 'figure_3b.pdf')"
   ]
  },
  {
   "cell_type": "markdown",
   "id": "d38afbd0",
   "metadata": {},
   "source": [
    "Fig. 3c"
   ]
  },
  {
   "cell_type": "code",
   "execution_count": null,
   "id": "183fe315",
   "metadata": {},
   "outputs": [],
   "source": [
    "smoothed_res = {}\n",
    "for org in organs:\n",
    "    smoothed = []\n",
    "    for n in range(N):\n",
    "        smoothed.append(aging_utils.moving_average(data[org][n], k=4))\n",
    "    smoothed_res[org] = np.stack(smoothed, axis=0)\n",
    "\n",
    "statistical_time_range = 25\n",
    "use_organs = ['Brain', 'Kidney', 'Liver', 'Ovary', 'Testis']\n",
    "\n",
    "early_time_color = plot_settings.get_sag_vs_baseline_colors('baseline')\n",
    "late_time_color = plot_settings.get_sag_vs_baseline_colors('Sagittarius')\n",
    "g = 673  # XRN2 index\n",
    "\n",
    "ax = plot_settings.get_wider_axis(double=True)\n",
    "plot_utils.box_plot(ax, [data[org][:, :statistical_time_range, g].flatten() for org in use_organs],\n",
    "                    positions=np.arange(1, len(use_organs)+1, 1), widths=0.4, xlabel='', \n",
    "                    ylabel=r'$\\it{Xrn2}$ Expression',\n",
    "                    box_colors=[early_time_color for _ in use_organs])\n",
    "plot_utils.box_plot(ax, [data[org][:, -statistical_time_range:, g].flatten() for org in use_organs],\n",
    "                    positions=np.arange(1.5, len(use_organs)+1, 1), widths=0.4, xlabel='', \n",
    "                    ylabel=r'$\\it{Xrn2}$ Expression',\n",
    "                    box_colors=[late_time_color for _ in use_organs], \n",
    "                    xticks=np.arange(1.25, len(use_organs)+1.25, 1), xticklabels=use_organs)\n",
    "complete_col_list = [early_time_color, late_time_color]\n",
    "complete_name_list = ['Early development (E5.5-E8)', 'Young mouse (P8, P63)']\n",
    "lp = lambda i: plt.plot([],color=complete_col_list[i], ms=10, mec=\"none\",\n",
    "                        label=complete_name_list[i], ls=\"\",  marker=\"s\")[0]\n",
    "handles = [lp(i) for i in range(2)]\n",
    "plot_utils.format_legend(ax, handles, complete_name_list)\n",
    "plot_utils.put_legend_outside_plot(ax)\n",
    "plot_utils.format_ax(ax)\n",
    "plt.tight_layout()\n",
    "plt.savefig(fig_dir + 'figure_3c.pdf')"
   ]
  },
  {
   "cell_type": "markdown",
   "id": "07714b7c",
   "metadata": {},
   "source": [
    "Fig. 3d"
   ]
  },
  {
   "cell_type": "code",
   "execution_count": null,
   "id": "3e737f3a",
   "metadata": {},
   "outputs": [],
   "source": [
    "genes = ['EGFLAM', 'SMOC1', 'SLC6A2', 'RPL38']\n",
    "gene_stylized = [r'$\\it{Egflam}$', r'$\\it{Smoc1}$', r'$\\it{Slc6a2}$', r'$\\it{Rpl38}$']\n",
    "tissues = {'Heart': 'Heart_and_Aorta', 'Kidney': 'Kidney', 'Liver': 'Liver'}\n",
    "res_dir = 'results/EvoDevo/'\n",
    "\n",
    "with open(res_dir + 'imputed_correlations.txt', 'r') as f:\n",
    "    imputed_corrs = json.load(f)\n",
    "    \n",
    "with open(res_dir + 'evodevo_correlations.txt', 'r') as f:\n",
    "    gt_corrs = json.load(f)\n",
    "    \n",
    "with open(res_dir + 'tabula_correlations.txt', 'r') as f:\n",
    "    tm_corrs = json.load(f)\n",
    "    \n",
    "\n",
    "ax = plot_settings.get_wider_axis(double=True)\n",
    "hex_cols = plot_settings.get_TM_color_palette()\n",
    "baseline_col = hex_cols['baseline']\n",
    "sag_col = hex_cols['Sagittarius']\n",
    "colors = {tiss: hex_cols[tiss] for tiss in tissues.keys()}\n",
    "tissue_list = [t for c in genes for t in sorted(tissues.keys()) if t in tm_corrs[c]]\n",
    "full_colors = [hex_cols[tiss] for tiss in tissue_list]\n",
    "full_positions = [\n",
    "        gene_idx + 0.25 * t - (0.25 if gene_idx==3 else 0) for gene_idx, c in enumerate(genes) \n",
    "    for t in range(len(tm_corrs[c]))]\n",
    "\n",
    "plot_utils.scatter_plot(\n",
    "    ax, full_positions, [gt_corrs[t][g] for g in genes for t in sorted(tissues) if t in tm_corrs[g]],\n",
    "    '', 'Pearson', color=baseline_col, alpha=1, size=100, style='d')\n",
    "plot_utils.scatter_plot(\n",
    "    ax, full_positions, [imputed_corrs[t][g] for g in genes for t in sorted(tissues) if t in tm_corrs[g]],\n",
    "    '', 'Pearson', color=sag_col, alpha=1, size=150, style='*', edge_color=hex_cols['edge'])\n",
    "\n",
    "plot_utils.box_plot(\n",
    "    ax, [list(tm_corrs[c][t].values()) for c in genes for t in sorted(tissues.keys()) if t in tm_corrs[c]],\n",
    "    '', 'Pearson', xticks=[0.25, 1.25, 2.125, 3.0], xticklabels=gene_stylized, box_colors=full_colors,\n",
    "    alpha=0.8, widths=0.2, positions=full_positions)\n",
    "\n",
    "complete_col_list = [sag_col, baseline_col] + [colors[tiss] for tiss in sorted(list(tissues.keys()))]\n",
    "complete_name_list = ['Sagittarius', 'No imputation'] + sorted(list(tissues.keys()))\n",
    "markers = ['*', 'd', 's', 's', 's']\n",
    "lp = lambda i: plt.plot([],color=complete_col_list[i], ms=10, mec=\"none\",\n",
    "                        label=complete_name_list[i], ls=\"\",  marker=markers[i])[0]\n",
    "handles = [lp(i) for i in range(5)]\n",
    "plot_utils.format_legend(ax, handles, complete_name_list)\n",
    "plot_utils.put_legend_outside_plot(ax)\n",
    "plt.tight_layout()\n",
    "plot_utils.format_ax(ax)\n",
    "plt.savefig(fig_dir + 'figure_3d.pdf')"
   ]
  },
  {
   "cell_type": "code",
   "execution_count": null,
   "id": "ba9e05de",
   "metadata": {},
   "outputs": [],
   "source": []
  }
 ],
 "metadata": {
  "kernelspec": {
   "display_name": "Python 3 (ipykernel)",
   "language": "python",
   "name": "python3"
  },
  "language_info": {
   "codemirror_mode": {
    "name": "ipython",
    "version": 3
   },
   "file_extension": ".py",
   "mimetype": "text/x-python",
   "name": "python",
   "nbconvert_exporter": "python",
   "pygments_lexer": "ipython3",
   "version": "3.9.7"
  }
 },
 "nbformat": 4,
 "nbformat_minor": 5
}

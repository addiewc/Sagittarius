{
 "cells": [
  {
   "cell_type": "markdown",
   "id": "ba047270",
   "metadata": {},
   "source": [
    "# Notebook to reproduce _Supplementary Figure 11_"
   ]
  },
  {
   "cell_type": "code",
   "execution_count": 1,
   "id": "6dcc8d76",
   "metadata": {},
   "outputs": [],
   "source": [
    "import sys\n",
    "import os\n",
    "import pandas as pd\n",
    "import numpy as np\n",
    "import matplotlib.pyplot as plt\n",
    "import warnings\n",
    "\n",
    "import plot_settings\n",
    "import plot_utils"
   ]
  },
  {
   "cell_type": "code",
   "execution_count": null,
   "id": "ed70d36d",
   "metadata": {},
   "outputs": [],
   "source": []
  },
  {
   "cell_type": "code",
   "execution_count": 2,
   "id": "2729d31e",
   "metadata": {},
   "outputs": [],
   "source": [
    "fig_dir = 'supplementary/figure_11/'"
   ]
  },
  {
   "cell_type": "code",
   "execution_count": 3,
   "id": "ffb26cf6",
   "metadata": {},
   "outputs": [],
   "source": [
    "if not os.path.exists(fig_dir):\n",
    "    os.makedirs(fig_dir)"
   ]
  },
  {
   "cell_type": "code",
   "execution_count": 4,
   "id": "ba43fe07",
   "metadata": {},
   "outputs": [],
   "source": [
    "SPECIES_OI = 'Mouse'\n",
    "organs = ['Brain', 'Cerebellum', 'Heart', 'Kidney', 'Liver', 'Ovary', 'Testis']"
   ]
  },
  {
   "cell_type": "code",
   "execution_count": 6,
   "id": "a0d029e2",
   "metadata": {},
   "outputs": [],
   "source": [
    "def get_performance_by_organ(org, row):\n",
    "    n = 0\n",
    "    keyname = '{}:{}'.format(SPECIES_OI, org)\n",
    "    if keyname not in row:\n",
    "        warning.warn('Missing {}'.format(keyname))\n",
    "        return None\n",
    "    return row[keyname]"
   ]
  },
  {
   "cell_type": "code",
   "execution_count": 7,
   "id": "6cc32c84",
   "metadata": {},
   "outputs": [],
   "source": [
    "def plot_EvoDevo_extrapolation_model_mouse_performance(metric):\n",
    "    means = []\n",
    "    df = pd.read_csv('results/EvoDevo/EvoDevo_model_performance:{}.csv'.format(metric))\n",
    "\n",
    "    ax = plot_settings.get_wider_axis()\n",
    "    model_ordering = plot_settings.get_model_ordering([mod for mod in plot_settings.EVO_DEVO_MODELS])\n",
    "    colors = [plot_settings.get_model_colors(mod) for mod in model_ordering]\n",
    "    labels = [plot_settings.get_model_name_conventions(mod) for mod in model_ordering]\n",
    "\n",
    "    for org in organs:\n",
    "        task_vals = []\n",
    "        for model in model_ordering:\n",
    "            row = df[df['model'] == model].iloc[0]\n",
    "            task_vals.append(get_performance_by_organ(org, row))\n",
    "        means.append(task_vals)\n",
    "\n",
    "    plot_utils.grouped_barplot(\n",
    "        ax, means, organs,\n",
    "        xlabel='', ylabel=plot_settings.get_metric_name(metric), color_legend=labels,\n",
    "        nested_color=colors, tickloc_top=False, rotangle=45, anchorpoint='right',\n",
    "        legend_loc='upper left' if metric == 'RMSE' else 'upper right',\n",
    "        min_val=0.0 if 'time' not in metric else -0.3)\n",
    "\n",
    "    plot_utils.format_ax(ax)\n",
    "    plot_utils.format_legend(ax, *ax.get_legend_handles_labels(), loc='upper right', \n",
    "                             ncols=2)\n",
    "    plot_utils.put_legend_outside_plot(ax, anchorage=(1.01, 1.01))"
   ]
  },
  {
   "cell_type": "code",
   "execution_count": null,
   "id": "6d6a5d82",
   "metadata": {},
   "outputs": [],
   "source": []
  },
  {
   "cell_type": "markdown",
   "id": "6eb3a86b",
   "metadata": {},
   "source": [
    "# Produce supplementary figure 3a-c"
   ]
  },
  {
   "cell_type": "markdown",
   "id": "d173166b",
   "metadata": {},
   "source": [
    "Supplementary fig. 3a"
   ]
  },
  {
   "cell_type": "code",
   "execution_count": null,
   "id": "28a94286",
   "metadata": {},
   "outputs": [],
   "source": [
    "%matplotlib inline\n",
    "\n",
    "plot_EvoDevo_extrapolation_model_mouse_performance('pearson_compare_genes')\n",
    "plt.savefig(fig_dir + 'figure_3a.pdf')"
   ]
  },
  {
   "cell_type": "markdown",
   "id": "e3950699",
   "metadata": {},
   "source": [
    "Supplementary fig. 3b"
   ]
  },
  {
   "cell_type": "code",
   "execution_count": null,
   "id": "689c2be9",
   "metadata": {},
   "outputs": [],
   "source": [
    "plot_EvoDevo_extrapolation_model_mouse_performance('pearson_compare_times')\n",
    "plt.savefig(fig_dir + 'figure_3b.pdf')"
   ]
  },
  {
   "cell_type": "markdown",
   "id": "e55fcb67",
   "metadata": {},
   "source": [
    "Supplementary fig. 3c"
   ]
  },
  {
   "cell_type": "code",
   "execution_count": null,
   "id": "6941f21a",
   "metadata": {},
   "outputs": [],
   "source": [
    "plot_EvoDevo_extrapolation_model_mouse_performance('RMSE')\n",
    "plt.savefig(fig_dir + 'figure_3c.pdf')"
   ]
  },
  {
   "cell_type": "code",
   "execution_count": null,
   "id": "223f926b",
   "metadata": {},
   "outputs": [],
   "source": []
  }
 ],
 "metadata": {
  "kernelspec": {
   "display_name": "Python 3 (ipykernel)",
   "language": "python",
   "name": "python3"
  },
  "language_info": {
   "codemirror_mode": {
    "name": "ipython",
    "version": 3
   },
   "file_extension": ".py",
   "mimetype": "text/x-python",
   "name": "python",
   "nbconvert_exporter": "python",
   "pygments_lexer": "ipython3",
   "version": "3.9.7"
  }
 },
 "nbformat": 4,
 "nbformat_minor": 5
}

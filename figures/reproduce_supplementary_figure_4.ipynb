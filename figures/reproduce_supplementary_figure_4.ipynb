{
 "cells": [
  {
   "cell_type": "markdown",
   "id": "bff0e756",
   "metadata": {},
   "source": [
    "# Python notebook to reproduce _Supplementary Figure 4_"
   ]
  },
  {
   "cell_type": "code",
   "execution_count": 1,
   "id": "26219c59",
   "metadata": {},
   "outputs": [],
   "source": [
    "import pandas as pd\n",
    "import numpy as np\n",
    "import os\n",
    "import matplotlib.pyplot as plt\n",
    "\n",
    "import plot_settings\n",
    "import plot_utils"
   ]
  },
  {
   "cell_type": "code",
   "execution_count": null,
   "id": "3cb5d2db",
   "metadata": {},
   "outputs": [],
   "source": []
  },
  {
   "cell_type": "code",
   "execution_count": 2,
   "id": "5939429d",
   "metadata": {},
   "outputs": [],
   "source": [
    "fig_dir = 'supplementary/figure_4/'\n",
    "if not os.path.exists(fig_dir):\n",
    "    os.makedirs(fig_dir)"
   ]
  },
  {
   "cell_type": "code",
   "execution_count": 3,
   "id": "85f9a007",
   "metadata": {},
   "outputs": [],
   "source": [
    "df = pd.read_csv('results/LINCS/processed_dataset_statistics.csv')\n",
    "additional_mapping = {\n",
    "    'ABT-263': 'Navitoclax',\n",
    "    'ABT-869': 'Linifanib',\n",
    "    'AC220': 'Quizartinib',\n",
    "    'AG-014699': 'Rucaparib Phosphate',\n",
    "    'AICAR': 'Acadesine',\n",
    "    'AMG-706': 'Motesanib',\n",
    "    'AP-24534': 'Ponatinib',\n",
    "    'AS601245': 'AS-601245',\n",
    "    'AS605240': 'AS-605240',\n",
    "    'AUY922': 'Luminespib',\n",
    "    'AV-951': 'Tivozanib',\n",
    "    'AZ628': 'AZ-628',\n",
    "    'AZD-0530': 'Saracatinib',\n",
    "    'AZD6244': 'Selumetinib',\n",
    "    'AZD6482': 'AZD-6482',\n",
    "    'AZD7762': 'AZD-7762',\n",
    "    'AZD8055': 'AZD-8055',\n",
    "    'BAY 61-3606': 'BAY-61-3606',\n",
    "    'BIRB 0796': 'Doramapimod',\n",
    "    'BIX02189': 'BIX-02189',\n",
    "    'BMN-673': 'Talazoparib',\n",
    "    'BMS-708163': 'Avagacestat',\n",
    "    'CAL-101': 'Idelalisib',\n",
    "    'CCT018159': 'CCT-018159',\n",
    "    'CEP-701': 'Lestaurtinib',\n",
    "    'CH5424802': 'Alectinib',\n",
    "    'CP466722': 'CP-466722',\n",
    "    'CP724714': 'CP-724714',\n",
    "    'EKB-569': 'Pelitinib',\n",
    "    'FH535': 'FH-535',\n",
    "    'FK866': 'Daporinad',\n",
    "    'GDC0941': 'GDC-0941',\n",
    "    'GDC0941 (RESCREEN)': 'GDC-0941',\n",
    "    'GSK1070916': 'GSK-1070916',\n",
    "    'GSK2126458': 'GSK-2126458',\n",
    "    'GSK429286A': 'GSK429286-A',\n",
    "    'GSK690693': 'GSK-690693',\n",
    "    'GW 441756': 'GW-441756',\n",
    "    'GW843682X': 'GW-843682X',\n",
    "    'JNJ-26854165': 'Serdemetan',\n",
    "    'LAQ824': 'Dacinostat',\n",
    "    'LY317615': 'Enzastaurin',\n",
    "    'MLN4924': 'Pevonedistat',\n",
    "    'MP470': 'Amuvatinib',\n",
    "    'MS-275': 'Entinostat',\n",
    "    'PD-0332991': 'Palbociclib',\n",
    "    'PLX4720': 'PLX-4720', \n",
    "    'PLX4720 (RESCREEN)': 'PLX-4720',\n",
    "    'QS11': 'QS-11',\n",
    "    'RDEA119': 'Refametinib',\n",
    "    'RDEA119 (RESCREEN)': 'Refametinib',\n",
    "    'SB 216763': 'SB-216763',\n",
    "    'SB-715992': 'Ispinesib',\n",
    "    'SB590885': 'SB-590885',\n",
    "    'SGC0946': 'SGC-0946',\n",
    "    'SL 0101-1': 'SL-0101-1',\n",
    "    'T0901317': 'T-0901317',\n",
    "    'TG101348': 'Fedratinib',\n",
    "    'TGX221': 'TGX-221',\n",
    "    'TW 37': 'TW-37',\n",
    "    'UNC0638': 'UNC-0638',\n",
    "    'UNC1215': 'UNC-1215',\n",
    "    'VX-680': 'Tozasertib',\n",
    "    'WZ3105': 'WZ-3105',\n",
    "    'XAV 939': 'XAV-939',\n",
    "    'XL-184': 'Cabozantinib',\n",
    "    'XL-880': 'Foretinib',\n",
    "    'XMD8-85': 'Erk-5-in-1',\n",
    "    'YM155': 'YM-155',\n",
    "    'YM201636': 'YM-201636',\n",
    "    'Z-LLNLE-CHO': 'Gamma-Secretase Inhibitor I',\n",
    "    'ZSTK474': 'ZSTK-474',\n",
    "    'AFATINIB (RESCREEN)': 'AFATINIB',\n",
    "}\n",
    "rev_additional_mapping = {additional_mapping[k]: k for k in additional_mapping}\n",
    "\n",
    "translation_file = 'results/LINCS/compoundinfo_beta.txt'\n",
    "\n",
    "alias_mapping = {}\n",
    "reverse_alias_mapping = {}\n",
    "with open(translation_file, 'r') as f:\n",
    "    for idx, line in enumerate(f.readlines()):\n",
    "        if idx == 0:\n",
    "            continue  # header\n",
    "        info = line.strip().split('\\t')\n",
    "        broad_id = info[0]\n",
    "        cmap_name = info[1]\n",
    "        other_aliases = info[6]\n",
    "        \n",
    "        alias_mapping[broad_id] = {cmap_name, *other_aliases}\n",
    "        if cmap_name != broad_id:\n",
    "            reverse_alias_mapping[cmap_name.upper()] = broad_id\n",
    "        for al in other_aliases:\n",
    "            if al != broad_id:\n",
    "                reverse_alias_mapping[al.upper()] = broad_id"
   ]
  },
  {
   "cell_type": "code",
   "execution_count": 4,
   "id": "0ae15ec7",
   "metadata": {},
   "outputs": [],
   "source": [
    "def get_general_drug(broad_drug):\n",
    "    aliases = alias_mapping[broad_drug]\n",
    "    for opt in aliases:\n",
    "        if opt.upper() in additional_mapping:\n",
    "            opt = additional_mapping[opt.upper()]\n",
    "        if opt.upper() in reverse_alias_mapping and reverse_alias_mapping[opt.upper()] == broad_drug:\n",
    "            return opt.upper()\n",
    "    return None"
   ]
  },
  {
   "cell_type": "code",
   "execution_count": 5,
   "id": "9b53e20d",
   "metadata": {},
   "outputs": [],
   "source": [
    "translated_drugs = [get_general_drug(dr) for dr in df['drug_id'].tolist()]\n",
    "cell_lines = df['cell_id'].tolist()"
   ]
  },
  {
   "cell_type": "code",
   "execution_count": null,
   "id": "a60ff5ad",
   "metadata": {},
   "outputs": [],
   "source": []
  },
  {
   "cell_type": "markdown",
   "id": "aa7d927f",
   "metadata": {},
   "source": [
    "# Code to reproduce Supplementary Figure 4a-b"
   ]
  },
  {
   "cell_type": "markdown",
   "id": "045bedf7",
   "metadata": {},
   "source": [
    "Supplementary Fig. 4a"
   ]
  },
  {
   "cell_type": "code",
   "execution_count": 6,
   "id": "d3354e73",
   "metadata": {},
   "outputs": [
    {
     "name": "stderr",
     "output_type": "stream",
     "text": [
      "findfont: Font family ['Helvetica'] not found. Falling back to DejaVu Sans.\n",
      "findfont: Font family ['Helvetica'] not found. Falling back to DejaVu Sans.\n"
     ]
    },
    {
     "data": {
      "image/png": "[encoded data removed]",
      "text/plain": [
       "<Figure size 432x288 with 1 Axes>"
      ]
     },
     "metadata": {
      "needs_background": "dark"
     },
     "output_type": "display_data"
    }
   ],
   "source": [
    "%matplotlib inline\n",
    "\n",
    "cell_line_counts = {cl: len([x for x in cell_lines if x == cl]) for cl in np.unique(cell_lines)}\n",
    "sorted_cls = sorted(list(cell_line_counts.keys()), key=lambda cl: -cell_line_counts[cl])\n",
    "\n",
    "ax = plot_settings.get_wider_axis()\n",
    "\n",
    "bcolor = plot_settings.get_sag_vs_baseline_colors('baseline')\n",
    "emph_color = plot_settings.get_sag_vs_baseline_colors('Sagittarius')\n",
    "ecolor = plot_settings.get_model_colors('cvae')\n",
    "\n",
    "plot_utils.sorted_histogram(\n",
    "    ax, cell_lines, sorted_cls, 'Cell line', 'Count in LINCS dataset',\n",
    "    call_out_labels=['A549'], base_color=bcolor, call_out_color=emph_color,\n",
    "    edge_color=ecolor, yscale='log', anchor='center')\n",
    "plot_utils.format_ax(ax)\n",
    "plt.tight_layout()\n",
    "plt.savefig(fig_dir + 'figure_4a.pdf')"
   ]
  },
  {
   "cell_type": "markdown",
   "id": "8628028a",
   "metadata": {},
   "source": [
    "Supplementary Fig. 4b"
   ]
  },
  {
   "cell_type": "code",
   "execution_count": 7,
   "id": "e162e510",
   "metadata": {},
   "outputs": [
    {
     "data": {
      "image/png": "[encoded data removed]",
      "text/plain": [
       "<Figure size 432x288 with 1 Axes>"
      ]
     },
     "metadata": {
      "needs_background": "dark"
     },
     "output_type": "display_data"
    }
   ],
   "source": [
    "drug_counts = {dr: len([x for x in translated_drugs if x is not None and x.upper() == dr.upper()]) \n",
    "               for dr in set(translated_drugs) if dr is not None}\n",
    "sorted_drgs = sorted(list(drug_counts.keys()), key=lambda dr: -drug_counts[dr])\n",
    "\n",
    "ax = plot_settings.get_wider_axis()\n",
    "plot_utils.sorted_histogram(\n",
    "    ax, [dr for dr in translated_drugs if dr is not None], sorted_drgs, 'Drug', \n",
    "    'Count in LINCS dataset', base_color=bcolor,\n",
    "    call_out_labels=['Bosutinib', 'Selumetinib', 'Vismodegib', 'Olaparib'],\n",
    "    call_out_color=emph_color, rotangle=-45, anchor='left', add_padding=2, edge_color=None,\n",
    "    edge_width=0.0, yscale='log')\n",
    "plot_utils.format_ax(ax)\n",
    "plt.tight_layout()\n",
    "plt.savefig(fig_dir + 'figure_4b.pdf')"
   ]
  },
  {
   "cell_type": "code",
   "execution_count": null,
   "id": "9409d5a9",
   "metadata": {},
   "outputs": [],
   "source": []
  }
 ],
 "metadata": {
  "kernelspec": {
   "display_name": "Python 3 (ipykernel)",
   "language": "python",
   "name": "python3"
  },
  "language_info": {
   "codemirror_mode": {
    "name": "ipython",
    "version": 3
   },
   "file_extension": ".py",
   "mimetype": "text/x-python",
   "name": "python",
   "nbconvert_exporter": "python",
   "pygments_lexer": "ipython3",
   "version": "3.8.13"
  }
 },
 "nbformat": 4,
 "nbformat_minor": 5
}

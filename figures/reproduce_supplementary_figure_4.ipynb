{
 "cells": [
  {
   "cell_type": "markdown",
   "id": "0d6f39c2",
   "metadata": {},
   "source": [
    "# Python notebook to reproduce _Supplementary Figure 4_"
   ]
  },
  {
   "cell_type": "code",
   "execution_count": 1,
   "id": "3e21f8f3",
   "metadata": {},
   "outputs": [],
   "source": [
    "import pandas as pd\n",
    "import numpy as np\n",
    "import os\n",
    "import matplotlib.pyplot as plt\n",
    "import matplotlib as mpl\n",
    "\n",
    "import plot_settings\n",
    "import plot_utils"
   ]
  },
  {
   "cell_type": "code",
   "execution_count": null,
   "id": "783d6c9d",
   "metadata": {},
   "outputs": [],
   "source": []
  },
  {
   "cell_type": "code",
   "execution_count": 2,
   "id": "6f8a8d18",
   "metadata": {},
   "outputs": [],
   "source": [
    "fig_dir = 'supplementary/figure_4/'\n",
    "if not os.path.exists(fig_dir):\n",
    "    os.makedirs(fig_dir)"
   ]
  },
  {
   "cell_type": "code",
   "execution_count": 3,
   "id": "ab1ac1bc",
   "metadata": {},
   "outputs": [],
   "source": [
    "df = pd.read_csv('results/LINCS/processed_dataset_statistics.csv')"
   ]
  },
  {
   "cell_type": "code",
   "execution_count": null,
   "id": "bc217d7d",
   "metadata": {},
   "outputs": [],
   "source": []
  },
  {
   "cell_type": "markdown",
   "id": "4386542a",
   "metadata": {},
   "source": [
    "# Code to reproduce supplementary figure 4a,b"
   ]
  },
  {
   "cell_type": "markdown",
   "id": "152347db",
   "metadata": {},
   "source": [
    "Supplementary Fig. 4a"
   ]
  },
  {
   "cell_type": "code",
   "execution_count": 4,
   "id": "79db5ec1",
   "metadata": {},
   "outputs": [
    {
     "name": "stderr",
     "output_type": "stream",
     "text": [
      "findfont: Font family ['Helvetica'] not found. Falling back to DejaVu Sans.\n"
     ]
    },
    {
     "data": {
      "image/png": "[encoded data removed]",
      "text/plain": [
       "<Figure size 720x288 with 1 Axes>"
      ]
     },
     "metadata": {},
     "output_type": "display_data"
    }
   ],
   "source": [
    "%matplotlib inline\n",
    "\n",
    "cmap = mpl.colors.ListedColormap(['#000000', plot_settings.get_base_color()])\n",
    "cl_map = {cl: i for i, cl in enumerate(np.unique(df['cell_id'].tolist()))}\n",
    "dr_map = {dr: i for i, dr in enumerate(np.unique(df['drug_id'].tolist()))}\n",
    "obs = np.zeros((len(cl_map), len(dr_map)))\n",
    "for idx, row in df.iterrows():\n",
    "    obs[cl_map[row['cell_id']], dr_map[row['drug_id']]] = 1\n",
    "    \n",
    "ax = plot_settings.get_wider_axis(double=True)\n",
    "plot_utils.show_image(ax, obs, 'Drug', 'Cell line', aspect='auto', cmap=cmap)\n",
    "\n",
    "lp = lambda i: plt.plot([],color=cmap(1), ms=10, \n",
    "                        mec=\"none\", label='measured', ls=\"\", \n",
    "                        marker=\"s\")[0]\n",
    "handles = [plt.plot([],color=cmap(1), ms=10, mec=\"none\", label='measured', ls=\"\", marker=\"s\")[0]]\n",
    "plot_utils.format_legend(ax, handles, ['measured'])\n",
    "plot_utils.put_legend_outside_plot(ax, (1.4, 0.98))\n",
    "\n",
    "plot_utils.format_ax(ax)\n",
    "plt.savefig(fig_dir + 'figure_4a.pdf')"
   ]
  },
  {
   "cell_type": "markdown",
   "id": "a6a3492e",
   "metadata": {},
   "source": [
    "Supplementary Fig. 4b"
   ]
  },
  {
   "cell_type": "code",
   "execution_count": 6,
   "id": "8ac1ea56",
   "metadata": {},
   "outputs": [
    {
     "data": {
      "image/png": "[encoded data removed]",
      "text/plain": [
       "<Figure size 432x288 with 1 Axes>"
      ]
     },
     "metadata": {
      "needs_background": "dark"
     },
     "output_type": "display_data"
    }
   ],
   "source": [
    "ax = plot_settings.get_wider_axis()\n",
    "plot_utils.histogram(ax, df['num_points'], 'Number of measured (dose, time) tuples per treatment', 'Count', \n",
    "                     N_bins=25, yscale='log', color=plot_settings.get_base_color(), \n",
    "                     edge_color=plot_settings.get_model_colors('cvae'))\n",
    "plot_utils.format_ax(ax)\n",
    "plt.savefig(fig_dir + 'figure_4b.pdf')"
   ]
  },
  {
   "cell_type": "code",
   "execution_count": null,
   "id": "76caa1ff",
   "metadata": {},
   "outputs": [],
   "source": []
  }
 ],
 "metadata": {
  "kernelspec": {
   "display_name": "Python 3 (ipykernel)",
   "language": "python",
   "name": "python3"
  },
  "language_info": {
   "codemirror_mode": {
    "name": "ipython",
    "version": 3
   },
   "file_extension": ".py",
   "mimetype": "text/x-python",
   "name": "python",
   "nbconvert_exporter": "python",
   "pygments_lexer": "ipython3",
   "version": "3.9.7"
  }
 },
 "nbformat": 4,
 "nbformat_minor": 5
}

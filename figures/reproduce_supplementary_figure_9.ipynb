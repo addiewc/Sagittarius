{
 "cells": [
  {
   "cell_type": "markdown",
   "id": "8670e807",
   "metadata": {},
   "source": [
    "# Python notebook to reproduce _Supplementary Figure 9_"
   ]
  },
  {
   "cell_type": "code",
   "execution_count": 1,
   "id": "84bc5845",
   "metadata": {},
   "outputs": [],
   "source": [
    "import os\n",
    "import json\n",
    "import matplotlib.pyplot as plt\n",
    "\n",
    "import plot_settings\n",
    "import plot_utils"
   ]
  },
  {
   "cell_type": "code",
   "execution_count": null,
   "id": "ab6a7ebc",
   "metadata": {},
   "outputs": [],
   "source": []
  },
  {
   "cell_type": "code",
   "execution_count": 2,
   "id": "402f27cd",
   "metadata": {},
   "outputs": [],
   "source": [
    "fig_dir = 'supplementary/figure_9/'\n",
    "if not os.path.exists(fig_dir):\n",
    "    os.makedirs(fig_dir)"
   ]
  },
  {
   "cell_type": "code",
   "execution_count": null,
   "id": "530a916e",
   "metadata": {},
   "outputs": [],
   "source": []
  },
  {
   "cell_type": "markdown",
   "id": "e513df83",
   "metadata": {},
   "source": [
    "# Code to reproduce Supplementary Figure 9"
   ]
  },
  {
   "cell_type": "markdown",
   "id": "bb9b40b8",
   "metadata": {},
   "source": [
    "Supplementary Fig. 9"
   ]
  },
  {
   "cell_type": "code",
   "execution_count": 3,
   "id": "76c2ddae",
   "metadata": {},
   "outputs": [
    {
     "name": "stderr",
     "output_type": "stream",
     "text": [
      "findfont: Font family ['Helvetica'] not found. Falling back to DejaVu Sans.\n",
      "findfont: Font family ['Helvetica'] not found. Falling back to DejaVu Sans.\n"
     ]
    },
    {
     "data": {
      "image/png": "[encoded data removed]",
      "text/plain": [
       "<Figure size 288x288 with 1 Axes>"
      ]
     },
     "metadata": {
      "needs_background": "dark"
     },
     "output_type": "display_data"
    }
   ],
   "source": [
    "%matplotlib inline\n",
    "\n",
    "ct_OI = 'THCA'\n",
    "\n",
    "with open('results/TCGA/{}_obs_absolute_error.txt'.format(ct_OI), 'r') as f:\n",
    "    obs_ae = json.load(f)\n",
    "with open('results/TCGA/{}_cens_absolute_error.txt'.format(ct_OI), 'r') as f:\n",
    "    cens_ae = json.load(f)\n",
    "\n",
    "color = plot_settings.get_base_color()\n",
    "\n",
    "ax = plot_settings.get_square_axis()\n",
    "plot_utils.violin_plot(ax, [obs_ae, cens_ae], xlabel='', ylabel='Loss for individual patient',\n",
    "                       xticks=['Uncensored', 'Censored'], yscale='log', violin_color=color,\n",
    "                       violin_line_color='white')\n",
    "plot_utils.horizontal_line(ax, max(obs_ae), linestyle='--', linewidth=2, color='white')\n",
    "plot_utils.format_ax(ax)\n",
    "\n",
    "plt.tight_layout()\n",
    "plt.savefig(fig_dir + 'figure_7.pdf')"
   ]
  },
  {
   "cell_type": "code",
   "execution_count": null,
   "id": "08ba0301",
   "metadata": {},
   "outputs": [],
   "source": []
  }
 ],
 "metadata": {
  "kernelspec": {
   "display_name": "Python 3 (ipykernel)",
   "language": "python",
   "name": "python3"
  },
  "language_info": {
   "codemirror_mode": {
    "name": "ipython",
    "version": 3
   },
   "file_extension": ".py",
   "mimetype": "text/x-python",
   "name": "python",
   "nbconvert_exporter": "python",
   "pygments_lexer": "ipython3",
   "version": "3.9.7"
  }
 },
 "nbformat": 4,
 "nbformat_minor": 5
}

{
 "cells": [
  {
   "cell_type": "markdown",
   "id": "cab320fb",
   "metadata": {},
   "source": [
    "# Python notebook to reproduce _Supplementary Figure 5_"
   ]
  },
  {
   "cell_type": "code",
   "execution_count": 1,
   "id": "7dbc25ea",
   "metadata": {},
   "outputs": [],
   "source": [
    "import pandas as pd\n",
    "import numpy as np\n",
    "import os\n",
    "import matplotlib.pyplot as plt\n",
    "\n",
    "import plot_settings\n",
    "import plot_utils"
   ]
  },
  {
   "cell_type": "code",
   "execution_count": null,
   "id": "17f89c78",
   "metadata": {},
   "outputs": [],
   "source": []
  },
  {
   "cell_type": "code",
   "execution_count": 2,
   "id": "4823894b",
   "metadata": {},
   "outputs": [],
   "source": [
    "fig_dir = 'supplementary/figure_5/'\n",
    "if not os.path.exists(fig_dir):\n",
    "    os.makedirs(fig_dir)"
   ]
  },
  {
   "cell_type": "code",
   "execution_count": 3,
   "id": "ce32d006",
   "metadata": {},
   "outputs": [],
   "source": [
    "df = pd.read_csv('results/LINCS/processed_dataset_statistics.csv')"
   ]
  },
  {
   "cell_type": "code",
   "execution_count": 4,
   "id": "2f42db9a",
   "metadata": {},
   "outputs": [],
   "source": [
    "broad_drugs = df['drug_id'].tolist()\n",
    "cell_lines = df['cell_id'].tolist()"
   ]
  },
  {
   "cell_type": "code",
   "execution_count": null,
   "id": "485eb879",
   "metadata": {},
   "outputs": [],
   "source": []
  },
  {
   "cell_type": "markdown",
   "id": "a018a8d5",
   "metadata": {},
   "source": [
    "# Code to reproduce Supplementary figure 5a-b"
   ]
  },
  {
   "cell_type": "markdown",
   "id": "1039065c",
   "metadata": {},
   "source": [
    "Supplementary Fig. 5a"
   ]
  },
  {
   "cell_type": "code",
   "execution_count": 11,
   "id": "a05109a2",
   "metadata": {},
   "outputs": [
    {
     "data": {
      "image/png": "[encoded data removed]",
      "text/plain": [
       "<Figure size 432x288 with 1 Axes>"
      ]
     },
     "metadata": {
      "needs_background": "dark"
     },
     "output_type": "display_data"
    }
   ],
   "source": [
    "%matplotlib inline\n",
    "\n",
    "cell_line_counts = {cl: len([x for x in cell_lines if x == cl]) for cl in np.unique(cell_lines)}\n",
    "sorted_cls = sorted(list(cell_line_counts.keys()), key=lambda cl: -cell_line_counts[cl])\n",
    "\n",
    "ax = plot_settings.get_wider_axis()\n",
    "\n",
    "bcolor = plot_settings.get_sag_vs_baseline_colors('baseline')\n",
    "emph_color = plot_settings.get_sag_vs_baseline_colors('Sagittarius')\n",
    "ecolor = plot_settings.get_model_colors('cvae')\n",
    "\n",
    "plot_utils.sorted_histogram(\n",
    "    ax, cell_lines, sorted_cls, 'Cell line', 'Count in LINCS dataset',\n",
    "    call_out_labels=['A549', 'PC3', 'SKBR3'], base_color=bcolor, call_out_color=emph_color,\n",
    "    edge_color=ecolor, yscale='log', anchor='center')\n",
    "plot_utils.format_ax(ax)\n",
    "plt.tight_layout()\n",
    "plt.savefig(fig_dir + 'figure_5a.pdf')"
   ]
  },
  {
   "cell_type": "markdown",
   "id": "86f71fab",
   "metadata": {},
   "source": [
    "Supplementary Fig. 5b"
   ]
  },
  {
   "cell_type": "code",
   "execution_count": 10,
   "id": "ad922bcd",
   "metadata": {},
   "outputs": [
    {
     "data": {
      "image/png": "[encoded data removed]",
      "text/plain": [
       "<Figure size 432x288 with 1 Axes>"
      ]
     },
     "metadata": {
      "needs_background": "dark"
     },
     "output_type": "display_data"
    }
   ],
   "source": [
    "extra_drug_translator = {\n",
    "    'BRD-K85606544': 'Neratinib', 'BRD-K92428232': 'GSK-461364'}\n",
    "\n",
    "drug_counts = {dr: len([x for x in broad_drugs if x is not None and x.upper() == dr.upper()]) \n",
    "               for dr in set(broad_drugs) if dr is not None}\n",
    "sorted_drgs = sorted(list(drug_counts.keys()), key=lambda dr: -drug_counts[dr])\n",
    "\n",
    "ax = plot_settings.get_wider_axis()\n",
    "plot_utils.sorted_histogram(\n",
    "    ax, [dr for dr in broad_drugs if dr is not None], sorted_drgs, 'Drug', \n",
    "    'Count in LINCS dataset', base_color=bcolor,\n",
    "    call_out_labels=['BRD-K85606544', 'BRD-K92428232'],\n",
    "    call_out_color=emph_color, rotangle=-45, anchor='left', add_padding=2, edge_color=None,\n",
    "    edge_width=0.0, yscale='log', extra_name_translation=extra_drug_translator)\n",
    "plot_utils.format_ax(ax)\n",
    "plt.tight_layout()\n",
    "plt.savefig(fig_dir + 'figure_5b.pdf')"
   ]
  },
  {
   "cell_type": "code",
   "execution_count": null,
   "id": "29abd13a",
   "metadata": {},
   "outputs": [],
   "source": []
  }
 ],
 "metadata": {
  "kernelspec": {
   "display_name": "Python 3 (ipykernel)",
   "language": "python",
   "name": "python3"
  },
  "language_info": {
   "codemirror_mode": {
    "name": "ipython",
    "version": 3
   },
   "file_extension": ".py",
   "mimetype": "text/x-python",
   "name": "python",
   "nbconvert_exporter": "python",
   "pygments_lexer": "ipython3",
   "version": "3.8.13"
  }
 },
 "nbformat": 4,
 "nbformat_minor": 5
}

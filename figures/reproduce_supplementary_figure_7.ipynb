{
 "cells": [
  {
   "cell_type": "markdown",
   "id": "65867eba",
   "metadata": {},
   "source": [
    "# Python notebook to reproduce _Supplementary Figure 7_"
   ]
  },
  {
   "cell_type": "code",
   "execution_count": 1,
   "id": "499c7451",
   "metadata": {},
   "outputs": [],
   "source": [
    "import pandas as pd\n",
    "import numpy as np\n",
    "import os\n",
    "import matplotlib.pyplot as plt\n",
    "\n",
    "import plot_settings\n",
    "import plot_utils"
   ]
  },
  {
   "cell_type": "code",
   "execution_count": null,
   "id": "c62857a1",
   "metadata": {},
   "outputs": [],
   "source": []
  },
  {
   "cell_type": "code",
   "execution_count": 2,
   "id": "030ee018",
   "metadata": {},
   "outputs": [],
   "source": [
    "fig_dir = 'supplementary/figure_7/'\n",
    "if not os.path.exists(fig_dir):\n",
    "    os.makedirs(fig_dir)"
   ]
  },
  {
   "cell_type": "code",
   "execution_count": 3,
   "id": "b7442ddc",
   "metadata": {},
   "outputs": [],
   "source": [
    "df = pd.read_csv('results/LINCS/processed_dataset_statistics.csv')"
   ]
  },
  {
   "cell_type": "code",
   "execution_count": 4,
   "id": "cac69e0c",
   "metadata": {},
   "outputs": [],
   "source": [
    "cell_lines = df['cell_id'].tolist()"
   ]
  },
  {
   "cell_type": "code",
   "execution_count": null,
   "id": "559f0225",
   "metadata": {},
   "outputs": [],
   "source": []
  },
  {
   "cell_type": "markdown",
   "id": "04d8b40d",
   "metadata": {},
   "source": [
    "# Code to reproduce Supplementary figure 7"
   ]
  },
  {
   "cell_type": "markdown",
   "id": "6895389c",
   "metadata": {},
   "source": [
    "Supplementary Fig. 7"
   ]
  },
  {
   "cell_type": "code",
   "execution_count": 5,
   "id": "4c7fb22c",
   "metadata": {},
   "outputs": [
    {
     "name": "stderr",
     "output_type": "stream",
     "text": [
      "findfont: Font family ['Helvetica'] not found. Falling back to DejaVu Sans.\n",
      "findfont: Font family ['Helvetica'] not found. Falling back to DejaVu Sans.\n"
     ]
    },
    {
     "data": {
      "image/png": "[encoded data removed]",
      "text/plain": [
       "<Figure size 432x288 with 1 Axes>"
      ]
     },
     "metadata": {
      "needs_background": "dark"
     },
     "output_type": "display_data"
    }
   ],
   "source": [
    "%matplotlib inline\n",
    "\n",
    "cell_line_counts = {cl: len([x for x in cell_lines if x == cl]) for cl in np.unique(cell_lines)}\n",
    "sorted_cls = sorted(list(cell_line_counts.keys()), key=lambda cl: -cell_line_counts[cl])\n",
    "\n",
    "ax = plot_settings.get_wider_axis()\n",
    "bcolor = plot_settings.get_sag_vs_baseline_colors('baseline')\n",
    "emph_color = plot_settings.get_sag_vs_baseline_colors('Sagittarius')\n",
    "ecolor = plot_settings.get_model_colors('cvae')\n",
    "\n",
    "plot_utils.sorted_histogram(\n",
    "    ax, cell_lines, sorted_cls, 'Cell line', 'Count in LINCS dataset',\n",
    "    call_out_labels=['SKBR3', 'THP1', 'YAPC', 'MDAMB231', 'OCILY19', 'VCAP', 'A549', 'HS578T', 'U2OS'],\n",
    "    base_color=bcolor, call_out_color=emph_color, \n",
    "    rotangle=-45, anchor='left', edge_color=ecolor, yscale='log')\n",
    "plot_utils.format_ax(ax)\n",
    "plt.tight_layout()\n",
    "plt.savefig(fig_dir + 'figure_7.pdf')"
   ]
  },
  {
   "cell_type": "code",
   "execution_count": null,
   "id": "d5cc3876",
   "metadata": {},
   "outputs": [],
   "source": []
  }
 ],
 "metadata": {
  "kernelspec": {
   "display_name": "Python 3 (ipykernel)",
   "language": "python",
   "name": "python3"
  },
  "language_info": {
   "codemirror_mode": {
    "name": "ipython",
    "version": 3
   },
   "file_extension": ".py",
   "mimetype": "text/x-python",
   "name": "python",
   "nbconvert_exporter": "python",
   "pygments_lexer": "ipython3",
   "version": "3.9.7"
  }
 },
 "nbformat": 4,
 "nbformat_minor": 5
}

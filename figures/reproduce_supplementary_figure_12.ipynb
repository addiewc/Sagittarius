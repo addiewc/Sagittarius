{
 "cells": [
  {
   "cell_type": "markdown",
   "id": "4709b322",
   "metadata": {},
   "source": [
    "# Python notebook to reproduce _Supplementary Figure 12_"
   ]
  },
  {
   "cell_type": "code",
   "execution_count": 1,
   "id": "a3b64960",
   "metadata": {},
   "outputs": [],
   "source": [
    "import json\n",
    "import os\n",
    "import matplotlib.pyplot as plt\n",
    "import matplotlib.ticker as mtick\n",
    "\n",
    "import plot_settings\n",
    "import plot_utils"
   ]
  },
  {
   "cell_type": "code",
   "execution_count": null,
   "id": "0482fbd0",
   "metadata": {},
   "outputs": [],
   "source": []
  },
  {
   "cell_type": "code",
   "execution_count": 2,
   "id": "aae2d00b",
   "metadata": {},
   "outputs": [],
   "source": [
    "fig_dir = 'supplementary/figure_12/'\n",
    "if not os.path.exists(fig_dir):\n",
    "    os.makedirs(fig_dir)"
   ]
  },
  {
   "cell_type": "code",
   "execution_count": null,
   "id": "9fc809cb",
   "metadata": {},
   "outputs": [],
   "source": []
  },
  {
   "cell_type": "markdown",
   "id": "fbafde71",
   "metadata": {},
   "source": [
    "# Code to reproduce Supplementary Figure 12a,b"
   ]
  },
  {
   "cell_type": "markdown",
   "id": "19c0c951",
   "metadata": {},
   "source": [
    "Supplementary Fig. 12a"
   ]
  },
  {
   "cell_type": "code",
   "execution_count": 3,
   "id": "51717335",
   "metadata": {},
   "outputs": [
    {
     "name": "stderr",
     "output_type": "stream",
     "text": [
      "findfont: Font family ['Helvetica'] not found. Falling back to DejaVu Sans.\n",
      "findfont: Font family ['Helvetica'] not found. Falling back to DejaVu Sans.\n"
     ]
    },
    {
     "data": {
      "image/png": "[encoded data removed]",
      "text/plain": [
       "<Figure size 288x288 with 1 Axes>"
      ]
     },
     "metadata": {
      "needs_background": "dark"
     },
     "output_type": "display_data"
    }
   ],
   "source": [
    "%matplotlib inline\n",
    "\n",
    "with open('results/TCGA/mutation_frequency/GLI2_frequency.txt', 'r') as f:\n",
    "    ct_corrs = json.load(f)\n",
    "    \n",
    "ax = plot_settings.get_square_axis()\n",
    "\n",
    "cts_to_show = [ct for ct in ct_corrs.keys() if ct_corrs[ct] > 0]\n",
    "cts_to_show = sorted(cts_to_show, key=lambda ct: ct_corrs[ct])\n",
    "\n",
    "plot_utils.horizontal_bar_plot(\n",
    "    ax, [ct_corrs[ct] for ct in cts_to_show], cts_to_show, \n",
    "    '% of patients with mutation', '', xscale='linear', yscale='linear',\n",
    "    min_val=0, invert_axes=False, color=plot_settings.get_base_color(),\n",
    "    edge_color=plot_settings.get_model_colors('cvae'))\n",
    "ax.xaxis.set_major_formatter(mtick.PercentFormatter(1.0, decimals=0))\n",
    "plot_utils.format_ax(ax)\n",
    "plt.title('GLI2')\n",
    "plt.tight_layout()\n",
    "plt.savefig(fig_dir + 'figure_12a.pdf')"
   ]
  },
  {
   "cell_type": "markdown",
   "id": "994453bb",
   "metadata": {},
   "source": [
    "Supplementary Fig. 12b"
   ]
  },
  {
   "cell_type": "code",
   "execution_count": null,
   "id": "12b179f6",
   "metadata": {},
   "outputs": [],
   "source": [
    "with open('results/TCGA/mutation_frequency/GLI3_frequency.txt', 'r') as f:\n",
    "    ct_corrs = json.load(f)\n",
    "    \n",
    "ax = plot_settings.get_square_axis()\n",
    "\n",
    "cts_to_show = [ct for ct in ct_corrs.keys() if ct_corrs[ct] > 0]\n",
    "cts_to_show = sorted(cts_to_show, key=lambda ct: ct_corrs[ct])\n",
    "\n",
    "plot_utils.horizontal_bar_plot(\n",
    "    ax, [ct_corrs[ct] for ct in cts_to_show], cts_to_show, \n",
    "    '% of patients with mutation', '', xscale='linear', yscale='linear',\n",
    "    min_val=0, invert_axes=False, color=plot_settings.get_base_color(),\n",
    "    edge_color=plot_settings.get_model_colors('cvae'))\n",
    "ax.xaxis.set_major_formatter(mtick.PercentFormatter(1.0, decimals=0))\n",
    "plot_utils.format_ax(ax)\n",
    "plt.title('GLI3')\n",
    "plt.tight_layout()\n",
    "plt.savefig(fig_dir + 'figure_12b.pdf')"
   ]
  },
  {
   "cell_type": "code",
   "execution_count": null,
   "id": "ef4ad3c3",
   "metadata": {},
   "outputs": [],
   "source": []
  }
 ],
 "metadata": {
  "kernelspec": {
   "display_name": "Python 3 (ipykernel)",
   "language": "python",
   "name": "python3"
  },
  "language_info": {
   "codemirror_mode": {
    "name": "ipython",
    "version": 3
   },
   "file_extension": ".py",
   "mimetype": "text/x-python",
   "name": "python",
   "nbconvert_exporter": "python",
   "pygments_lexer": "ipython3",
   "version": "3.8.13"
  }
 },
 "nbformat": 4,
 "nbformat_minor": 5
}

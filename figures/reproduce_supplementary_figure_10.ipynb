{
 "cells": [
  {
   "cell_type": "markdown",
   "id": "8bef640e",
   "metadata": {},
   "source": [
    "# Notebook to reproduce _Supplementary Figure 10_"
   ]
  },
  {
   "cell_type": "code",
   "execution_count": 1,
   "id": "57efd3c1",
   "metadata": {},
   "outputs": [],
   "source": [
    "import sys\n",
    "import os\n",
    "import pandas as pd\n",
    "import numpy as np\n",
    "import matplotlib.pyplot as plt\n",
    "import warnings\n",
    "\n",
    "sys.path.append(os.path.join(sys.path[0], '../'))\n",
    "from figures import plot_settings, plot_utils\n",
    "from figures.additional_utils import ablation_plot_utils"
   ]
  },
  {
   "cell_type": "code",
   "execution_count": null,
   "id": "aba89af3",
   "metadata": {},
   "outputs": [],
   "source": []
  },
  {
   "cell_type": "code",
   "execution_count": 2,
   "id": "6fc4e7a4",
   "metadata": {},
   "outputs": [],
   "source": [
    "fig_dir = 'supplementary/figure_10/'\n",
    "\n",
    "if not os.path.exists(fig_dir):\n",
    "    os.makedirs(fig_dir)"
   ]
  },
  {
   "cell_type": "code",
   "execution_count": 3,
   "id": "676b0f07",
   "metadata": {},
   "outputs": [],
   "source": [
    "ablations = {\n",
    "    'cVAE_catDims': [1, 2, 4, 8],\n",
    "    'depth': [1, 2, 3],\n",
    "    'width': [512, 1024, 2048],\n",
    "    'beta': [0.0, 0.1667, 1.0],\n",
    "    'ld': [8, 16, 32, 64, 128],\n",
    "    'lr': [1e-4, 5e-4, 1e-3],\n",
    "    'heads': [4, 8, 12],\n",
    "    'refPoints': [3, 4, 5],\n",
    "    'temporalDimMultiplier': [1, 2, 3],\n",
    "    'transformer_catDims': [1, 2, 4, 8],\n",
    "    'N_transfer': [0, 12, 24, 36, 48, 72, 84]\n",
    "}\n",
    "\n",
    "results = {\n",
    "    hyperparameter: {i: pd.read_csv('results/EvoDevo/ablation_results/ablation_{}={}_filteredDataFrame.csv'.format(\n",
    "        hyperparameter, i)) for i in ablations[hyperparameter]} for hyperparameter in ablations\n",
    "}"
   ]
  },
  {
   "cell_type": "code",
   "execution_count": 5,
   "id": "fd2fc0da",
   "metadata": {},
   "outputs": [],
   "source": [
    "metric_df = {}\n",
    "met = 'rho (pe)'\n",
    "for hyperparameter in ablations:\n",
    "    df_dict = {'value': [], 'mean': [], 'std': [], **{seq: [] for seq in np.unique(results['ld'][8]['sequence'].tolist())}}\n",
    "    for v in ablations[hyperparameter]:\n",
    "        df_dict['value'].append(v)\n",
    "        df = results[hyperparameter][v]\n",
    "        df_dict['mean'].append(np.mean(df['gen rmse'].tolist()))\n",
    "        df_dict['std'].append(np.std(df['gen rmse'].tolist()))\n",
    "        for seq in np.unique(df['sequence'].tolist()): \n",
    "            df_dict[seq].append(df[df['sequence'] == seq]['gen rmse'].iloc[0])\n",
    "    metric_df[hyperparameter] = pd.DataFrame.from_dict(df_dict)"
   ]
  },
  {
   "cell_type": "code",
   "execution_count": null,
   "id": "8e17f84e",
   "metadata": {},
   "outputs": [],
   "source": []
  },
  {
   "cell_type": "markdown",
   "id": "3090558a",
   "metadata": {},
   "source": [
    "## Produce supplementary figure 10a-k"
   ]
  },
  {
   "cell_type": "markdown",
   "id": "7b3359e8",
   "metadata": {},
   "source": [
    "Supplementary fig. 10a"
   ]
  },
  {
   "cell_type": "code",
   "execution_count": 6,
   "id": "44e624a8",
   "metadata": {},
   "outputs": [
    {
     "name": "stderr",
     "output_type": "stream",
     "text": [
      "findfont: Font family ['Helvetica'] not found. Falling back to DejaVu Sans.\n",
      "findfont: Font family ['Helvetica'] not found. Falling back to DejaVu Sans.\n"
     ]
    },
    {
     "data": {
      "image/png": "[encoded data removed]",
      "text/plain": [
       "<Figure size 288x288 with 1 Axes>"
      ]
     },
     "metadata": {
      "needs_background": "dark"
     },
     "output_type": "display_data"
    }
   ],
   "source": [
    "%matplotlib inline\n",
    "\n",
    "ab = 'ld'\n",
    "ablation_plot_utils.ablation_plot(\n",
    "    r'Embedding dimension $d$', ablations[ab], None, None, metric_df[ab]['mean'].tolist(),\n",
    "    None, None, [x/np.sqrt(48.) for x in metric_df[ab]['std'].tolist()],\n",
    "    32, min_vals={'RMSE': 0, 'pearson_compare_genes': 0.7, 'pearson_compare_times': -0.1},\n",
    "    best_baselines={met: ablation_plot_utils.get_best_baseline(met) for met in [\n",
    "        'RMSE', 'pearson_compare_genes', 'pearson_compare_times']})\n",
    "plt.savefig(fig_dir + 'figure_10a.pdf')"
   ]
  },
  {
   "cell_type": "markdown",
   "id": "f0be31e5",
   "metadata": {},
   "source": [
    "Supplementary fig. 10b"
   ]
  },
  {
   "cell_type": "code",
   "execution_count": 7,
   "id": "e2d5dca1",
   "metadata": {},
   "outputs": [
    {
     "data": {
      "image/png": "[encoded data removed]",
      "text/plain": [
       "<Figure size 288x288 with 1 Axes>"
      ]
     },
     "metadata": {
      "needs_background": "dark"
     },
     "output_type": "display_data"
    }
   ],
   "source": [
    "%matplotlib inline\n",
    "\n",
    "ab = 'refPoints'\n",
    "ablation_plot_utils.ablation_plot(\n",
    "    r'Number of reference points $S+1$', ablations[ab], None, None, metric_df[ab]['mean'].tolist(),\n",
    "    None, None, [x/np.sqrt(48.) for x in metric_df[ab]['std'].tolist()],\n",
    "    4, min_vals={'RMSE': 0, 'pearson_compare_genes': 0.7, 'pearson_compare_times': -0.1},\n",
    "    best_baselines={met: ablation_plot_utils.get_best_baseline(met) for met in [\n",
    "        'RMSE', 'pearson_compare_genes', 'pearson_compare_times']})\n",
    "plt.savefig(fig_dir + 'figure_10b.pdf')"
   ]
  },
  {
   "cell_type": "markdown",
   "id": "f1fd6065",
   "metadata": {},
   "source": [
    "Supplementary fig. 10c"
   ]
  },
  {
   "cell_type": "code",
   "execution_count": 8,
   "id": "13d10635",
   "metadata": {},
   "outputs": [
    {
     "data": {
      "image/png": "[encoded data removed]",
      "text/plain": [
       "<Figure size 288x288 with 1 Axes>"
      ]
     },
     "metadata": {
      "needs_background": "dark"
     },
     "output_type": "display_data"
    }
   ],
   "source": [
    "%matplotlib inline\n",
    "\n",
    "ab = 'beta'\n",
    "ablation_plot_utils.ablation_plot(\n",
    "    r'Regularization weight ${\\beta}$', ablations[ab], None, None, metric_df[ab]['mean'].tolist(),\n",
    "    None, None, [x/np.sqrt(48.) for x in metric_df[ab]['std'].tolist()],\n",
    "    0.1667, min_vals={'RMSE': 0, 'pearson_compare_genes': 0.7, 'pearson_compare_times': -0.1},\n",
    "    best_baselines={met: ablation_plot_utils.get_best_baseline(met) for met in [\n",
    "        'RMSE', 'pearson_compare_genes', 'pearson_compare_times']})\n",
    "plt.savefig(fig_dir + 'figure_10c.pdf')"
   ]
  },
  {
   "cell_type": "markdown",
   "id": "861902b2",
   "metadata": {},
   "source": [
    "Supplementary fig. 10d"
   ]
  },
  {
   "cell_type": "code",
   "execution_count": 9,
   "id": "cbd6116b",
   "metadata": {},
   "outputs": [
    {
     "data": {
      "image/png": "[encoded data removed]",
      "text/plain": [
       "<Figure size 288x288 with 1 Axes>"
      ]
     },
     "metadata": {
      "needs_background": "dark"
     },
     "output_type": "display_data"
    }
   ],
   "source": [
    "%matplotlib inline\n",
    "\n",
    "ab = 'width'\n",
    "ablation_plot_utils.ablation_plot(\n",
    "    r'Autoencoder width', ablations[ab], None, None, metric_df[ab]['mean'].tolist(),\n",
    "    None, None, [x/np.sqrt(48.) for x in metric_df[ab]['std'].tolist()],\n",
    "    1024, min_vals={'RMSE': 0, 'pearson_compare_genes': 0.7, 'pearson_compare_times': -0.1},\n",
    "    best_baselines={met: ablation_plot_utils.get_best_baseline(met) for met in [\n",
    "        'RMSE', 'pearson_compare_genes', 'pearson_compare_times']})\n",
    "plt.savefig(fig_dir + 'figure_10d.pdf')"
   ]
  },
  {
   "cell_type": "markdown",
   "id": "e65aacd9",
   "metadata": {},
   "source": [
    "Supplementary fig. 10e"
   ]
  },
  {
   "cell_type": "code",
   "execution_count": 10,
   "id": "0c51ef0d",
   "metadata": {},
   "outputs": [
    {
     "data": {
      "image/png": "[encoded data removed]",
      "text/plain": [
       "<Figure size 288x288 with 1 Axes>"
      ]
     },
     "metadata": {
      "needs_background": "dark"
     },
     "output_type": "display_data"
    }
   ],
   "source": [
    "%matplotlib inline\n",
    "\n",
    "ab = 'depth'\n",
    "ablation_plot_utils.ablation_plot(\n",
    "    r'Autoencoder depth', ablations[ab], None, None, metric_df[ab]['mean'].tolist(),\n",
    "    None, None, [x/np.sqrt(48.) for x in metric_df[ab]['std'].tolist()],\n",
    "    3, min_vals={'RMSE': 0, 'pearson_compare_genes': 0.7, 'pearson_compare_times': -0.1},\n",
    "    best_baselines={met: ablation_plot_utils.get_best_baseline(met) for met in [\n",
    "        'RMSE', 'pearson_compare_genes', 'pearson_compare_times']})\n",
    "plt.savefig(fig_dir + 'figure_10e.pdf')"
   ]
  },
  {
   "cell_type": "markdown",
   "id": "cb44f68b",
   "metadata": {},
   "source": [
    "Supplementary fig. 10f"
   ]
  },
  {
   "cell_type": "code",
   "execution_count": 11,
   "id": "e998f0c4",
   "metadata": {},
   "outputs": [
    {
     "data": {
      "image/png": "[encoded data removed]",
      "text/plain": [
       "<Figure size 288x288 with 1 Axes>"
      ]
     },
     "metadata": {
      "needs_background": "dark"
     },
     "output_type": "display_data"
    }
   ],
   "source": [
    "%matplotlib inline\n",
    "\n",
    "ab = 'cVAE_catDims'\n",
    "ablation_plot_utils.ablation_plot(\n",
    "    r'Autoencoder dimension $d_{yae}$', ablations[ab], None, None, metric_df[ab]['mean'].tolist(),\n",
    "    None, None, [x/np.sqrt(48.) for x in metric_df[ab]['std'].tolist()],\n",
    "    2, min_vals={'RMSE': 0, 'pearson_compare_genes': 0.7, 'pearson_compare_times': -0.1},\n",
    "    best_baselines={met: ablation_plot_utils.get_best_baseline(met) for met in [\n",
    "        'RMSE', 'pearson_compare_genes', 'pearson_compare_times']})\n",
    "plt.savefig(fig_dir + 'figure_10f.pdf')"
   ]
  },
  {
   "cell_type": "markdown",
   "id": "ec80bceb",
   "metadata": {},
   "source": [
    "Supplementary fig. 10g"
   ]
  },
  {
   "cell_type": "code",
   "execution_count": 12,
   "id": "1e89ae0f",
   "metadata": {},
   "outputs": [
    {
     "data": {
      "image/png": "[encoded data removed]",
      "text/plain": [
       "<Figure size 288x288 with 1 Axes>"
      ]
     },
     "metadata": {
      "needs_background": "dark"
     },
     "output_type": "display_data"
    }
   ],
   "source": [
    "%matplotlib inline\n",
    "\n",
    "ab = 'heads'\n",
    "ablation_plot_utils.ablation_plot(\n",
    "    r'Attention heads $H$', ablations[ab], None, None, metric_df[ab]['mean'].tolist(),\n",
    "    None, None, [x/np.sqrt(48.) for x in metric_df[ab]['std'].tolist()],\n",
    "    8, min_vals={'RMSE': 0, 'pearson_compare_genes': 0.7, 'pearson_compare_times': -0.1},\n",
    "    best_baselines={met: ablation_plot_utils.get_best_baseline(met) for met in [\n",
    "        'RMSE', 'pearson_compare_genes', 'pearson_compare_times']})\n",
    "plt.savefig(fig_dir + 'figure_10g.pdf')"
   ]
  },
  {
   "cell_type": "markdown",
   "id": "85168381",
   "metadata": {},
   "source": [
    "Supplementary fig. 10h"
   ]
  },
  {
   "cell_type": "code",
   "execution_count": 13,
   "id": "df8878bd",
   "metadata": {},
   "outputs": [
    {
     "data": {
      "image/png": "[encoded data removed]",
      "text/plain": [
       "<Figure size 288x288 with 1 Axes>"
      ]
     },
     "metadata": {
      "needs_background": "dark"
     },
     "output_type": "display_data"
    }
   ],
   "source": [
    "%matplotlib inline\n",
    "\n",
    "ab = 'temporalDimMultiplier'\n",
    "ablation_plot_utils.ablation_plot(\n",
    "    r'Time embedding dimension $d_{temp}$', ablations[ab], None, None, metric_df[ab]['mean'].tolist(),\n",
    "    None, None, [x/np.sqrt(48.) for x in metric_df[ab]['std'].tolist()],\n",
    "    1, min_vals={'RMSE': 0, 'pearson_compare_genes': 0.7, 'pearson_compare_times': -0.1},\n",
    "    best_baselines={met: ablation_plot_utils.get_best_baseline(met) for met in [\n",
    "        'RMSE', 'pearson_compare_genes', 'pearson_compare_times']})\n",
    "plt.savefig(fig_dir + 'figure_10h.pdf')"
   ]
  },
  {
   "cell_type": "markdown",
   "id": "8d5a70c0",
   "metadata": {},
   "source": [
    "Supplementary fig. 10i"
   ]
  },
  {
   "cell_type": "code",
   "execution_count": null,
   "id": "dac8126f",
   "metadata": {},
   "outputs": [],
   "source": []
  }
 ],
 "metadata": {
  "kernelspec": {
   "display_name": "Python 3 (ipykernel)",
   "language": "python",
   "name": "python3"
  },
  "language_info": {
   "codemirror_mode": {
    "name": "ipython",
    "version": 3
   },
   "file_extension": ".py",
   "mimetype": "text/x-python",
   "name": "python",
   "nbconvert_exporter": "python",
   "pygments_lexer": "ipython3",
   "version": "3.9.7"
  }
 },
 "nbformat": 4,
 "nbformat_minor": 5
}

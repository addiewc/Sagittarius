{
 "cells": [
  {
   "cell_type": "code",
   "execution_count": 1,
   "id": "d45d3fe2",
   "metadata": {},
   "outputs": [],
   "source": [
    "import torch\n",
    "import numpy as np\n",
    "import pandas as pd\n",
    "import os\n",
    "import sys\n",
    "import json\n",
    "\n",
    "sys.path.append(os.path.join(sys.path[0], '../'))\n",
    "from models import manager_for_sagittarius\n",
    "from evaluation import initialize_experiment\n",
    "from EvoDevo import utils\n",
    "from config import EVO_DEVO_DATA_LOC"
   ]
  },
  {
   "cell_type": "code",
   "execution_count": null,
   "id": "5981182b",
   "metadata": {},
   "outputs": [],
   "source": []
  },
  {
   "cell_type": "code",
   "execution_count": 2,
   "id": "60795970",
   "metadata": {},
   "outputs": [],
   "source": [
    "device = 'cuda:0'"
   ]
  },
  {
   "cell_type": "markdown",
   "id": "e164d9dc",
   "metadata": {},
   "source": [
    "# Load the data"
   ]
  },
  {
   "cell_type": "code",
   "execution_count": 3,
   "id": "4e2e3334",
   "metadata": {},
   "outputs": [
    {
     "name": "stdout",
     "output_type": "stream",
     "text": [
      "...loading data\n",
      "...loading data\n"
     ]
    }
   ],
   "source": [
    "initialize_experiment.initialize_random_seed(0)\n",
    "\n",
    "species = sorted(['Chicken', 'Rat', 'Mouse', 'Rabbit', 'Opossum', 'RhesusMacaque', 'Human'])\n",
    "organs = sorted(['Brain', 'Cerebellum', 'Liver', 'Heart', 'Kidney', 'Ovary', 'Testis'])\n",
    "S = len(species)\n",
    "O = len(organs)\n",
    "spec_vec_long, org_vec_long, expr_vec, ts_vec, mask_vec = utils.load_all_data(\n",
    "    device=device, verbose=False)\n",
    "_, _, M = expr_vec.shape\n",
    "\n",
    "# shuffle the data!\n",
    "expr_vec, spec_vec_long, org_vec_long, ts_vec, mask_vec = utils.shuffle_data(\n",
    "    expr_vec, spec_vec_long, org_vec_long, ts_vec, mask_vec)\n",
    "\n",
    "expr_vec, non_stationary_mask = utils.restrict_to_nonstationary_genes(expr_vec)\n",
    "N, T, M_new = expr_vec.shape\n",
    "spec_vec_long = spec_vec_long[:, 0].to(device)  # N\n",
    "org_vec_long = org_vec_long[:, 0].to(device)  # N\n",
    "expr_vec = expr_vec.to(device)\n",
    "ts_vec = ts_vec.to(device)\n",
    "mask_vec = mask_vec.to(device)"
   ]
  },
  {
   "cell_type": "markdown",
   "id": "04cadba8",
   "metadata": {},
   "source": [
    "# Load the model"
   ]
  },
  {
   "cell_type": "code",
   "execution_count": 4,
   "id": "75615e71",
   "metadata": {},
   "outputs": [],
   "source": [
    "def load_config_file():\n",
    "    with open('model_config_files/Sagittarius_config.json', 'r') as f:\n",
    "        return json.load(f)"
   ]
  },
  {
   "cell_type": "code",
   "execution_count": 5,
   "id": "2ee38bc2",
   "metadata": {},
   "outputs": [],
   "source": [
    "# Now, conduct extrapolation experiment task\n",
    "initialize_experiment.initialize_random_seed(0)\n",
    "\n",
    "# Train the model\n",
    "sagittarius_manager = manager_for_sagittarius.Sagittarius_Manager(\n",
    "    M_new, 2, [S, O], **load_config_file(), minT=0, maxT=T,\n",
    "    device=device, train_transfer=False)\n",
    "sagittarius_manager.train_model(\n",
    "    expr_vec, ts_vec, [spec_vec_long, org_vec_long], mask_vec,\n",
    "    reload=True, mfile='trained_models/Sagittarius_full_dataset_model.pth')"
   ]
  },
  {
   "cell_type": "markdown",
   "id": "ae9ee363",
   "metadata": {},
   "source": [
    "# Start the extrapolation"
   ]
  },
  {
   "cell_type": "code",
   "execution_count": 6,
   "id": "f9b906dd",
   "metadata": {},
   "outputs": [],
   "source": [
    "ts_to_simulate = torch.tensor(np.arange(0, 30, 0.05)).to(device)\n",
    "gen_k = 10  # take 10 samples from latent space for each generation"
   ]
  },
  {
   "cell_type": "code",
   "execution_count": 7,
   "id": "e5478781",
   "metadata": {},
   "outputs": [],
   "source": [
    "stacked_species = torch.stack([spec_vec_long for _ in range(T)], dim=1)\n",
    "stacked_organs = torch.stack([org_vec_long for _ in range(T)], dim=1)\n",
    "\n",
    "gen_species = torch.stack([spec_vec_long for _ in range(len(ts_to_simulate))], dim=1)\n",
    "gen_organs = torch.stack([org_vec_long for _ in range(len(ts_to_simulate))], dim=1)"
   ]
  },
  {
   "cell_type": "code",
   "execution_count": 8,
   "id": "12ae2674",
   "metadata": {},
   "outputs": [
    {
     "name": "stderr",
     "output_type": "stream",
     "text": [
      "/homes/gws/addiewc/anaconda3/envs/codeGen/lib/python3.9/site-packages/torch/nn/modules/container.py:139: UserWarning: Implicit dimension choice for softmax has been deprecated. Change the call to include dim=X as an argument.\n",
      "  input = module(input)\n"
     ]
    }
   ],
   "source": [
    "sim_labels = []\n",
    "sim_expr = []\n",
    "\n",
    "initialize_experiment.initialize_random_seed(0)\n",
    "\n",
    "for i in range(N):\n",
    "    sim_labels.extend([np.asarray([\n",
    "        species[spec_vec_long[i].item()], organs[org_vec_long[i].item()], t.item()])\n",
    "        for t in ts_to_simulate])\n",
    "    \n",
    "    gen, _, _ = sagittarius_manager.model.generate(\n",
    "        expr_vec[i].unsqueeze(0), ts_vec[i].unsqueeze(0), ts_to_simulate.unsqueeze(0),\n",
    "        [stacked_species[i].unsqueeze(0), stacked_organs[i].unsqueeze(0)], \n",
    "        [gen_species[i].unsqueeze(0), gen_organs[i].unsqueeze(0)],\n",
    "        mask_vec[i].unsqueeze(0), k=gen_k)\n",
    "    sim_expr.append(gen[0])"
   ]
  },
  {
   "cell_type": "code",
   "execution_count": 9,
   "id": "22aecc6b",
   "metadata": {},
   "outputs": [
    {
     "data": {
      "text/plain": [
       "((28800, 3), torch.Size([48, 600, 4533]))"
      ]
     },
     "execution_count": 9,
     "metadata": {},
     "output_type": "execute_result"
    }
   ],
   "source": [
    "sim_expr = torch.stack(sim_expr)\n",
    "sim_labels = np.stack(sim_labels)\n",
    "\n",
    "sim_labels.shape, sim_expr.shape"
   ]
  },
  {
   "cell_type": "markdown",
   "id": "51973137",
   "metadata": {},
   "source": [
    "# Create .h5ad result file"
   ]
  },
  {
   "cell_type": "code",
   "execution_count": 10,
   "id": "6dc6d759",
   "metadata": {},
   "outputs": [],
   "source": [
    "x = sim_expr.view(-1, M_new).detach().cpu().numpy()  # NT x M_new\n",
    "obsm = {'species': np.asarray([sim_labels[i][0] for i in range(len(x))]),\n",
    "        'organs': np.asarray([sim_labels[i][1] for i in range(len(x))]),\n",
    "        'time': np.asarray([sim_labels[i][2] for i in range(len(x))])}\n",
    "gene_mapping = pd.read_csv(\n",
    "    EVO_DEVO_DATA_LOC + 'gene_orderings/idx_to_gene.txt',\n",
    "    names=['gene'], index_col=0)\n",
    "name_mapping = {}\n",
    "with open('/data/addiewc/scRNA_disentangle/unseen_attribute_generation/lit_search/MOD/dated_models/figure_processing/name_mapping.txt', 'r') as f:\n",
    "    for idx, line in enumerate(f.readlines()):\n",
    "        if idx == 0:  # header row\n",
    "            continue\n",
    "        names = line.strip().split('\\t')\n",
    "        if len(names) < 5:  # missing ensembl id\n",
    "            continue\n",
    "        ensembl_id = names[4]\n",
    "        symbol = names[0]\n",
    "        name_mapping[ensembl_id] = symbol\n",
    "        \n",
    "genes_included = []\n",
    "for idx in range(M):\n",
    "    if non_stationary_mask[idx] == 0:  # not included\n",
    "        continue\n",
    "    genes_included.append(name_mapping[gene_mapping.loc[idx]['gene']])\n",
    "var = pd.DataFrame.from_dict({'gene': genes_included})"
   ]
  },
  {
   "cell_type": "code",
   "execution_count": 11,
   "id": "7b8f6260",
   "metadata": {},
   "outputs": [],
   "source": [
    "if not os.path.exists('../simulated_datasets/'):\n",
    "    os.makedirs('../simulated_datasets/')"
   ]
  },
  {
   "cell_type": "code",
   "execution_count": 12,
   "id": "70fc4790",
   "metadata": {},
   "outputs": [
    {
     "name": "stderr",
     "output_type": "stream",
     "text": [
      "/homes/gws/addiewc/anaconda3/envs/codeGen/lib/python3.9/site-packages/anndata/_core/anndata.py:121: ImplicitModificationWarning: Transforming to str index.\n",
      "  warnings.warn(\"Transforming to str index.\", ImplicitModificationWarning)\n"
     ]
    }
   ],
   "source": [
    "import anndata\n",
    "\n",
    "adata = anndata.AnnData(X=x, obsm=obsm, var=var)\n",
    "adata.write('../simulated_datasets/simulated_EvoDevo.h5ad')"
   ]
  },
  {
   "cell_type": "code",
   "execution_count": null,
   "id": "41ea46b8",
   "metadata": {},
   "outputs": [],
   "source": []
  }
 ],
 "metadata": {
  "kernelspec": {
   "display_name": "Python 3 (ipykernel)",
   "language": "python",
   "name": "python3"
  },
  "language_info": {
   "codemirror_mode": {
    "name": "ipython",
    "version": 3
   },
   "file_extension": ".py",
   "mimetype": "text/x-python",
   "name": "python",
   "nbconvert_exporter": "python",
   "pygments_lexer": "ipython3",
   "version": "3.9.7"
  }
 },
 "nbformat": 4,
 "nbformat_minor": 5
}

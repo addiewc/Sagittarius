{
 "cells": [
  {
   "cell_type": "code",
   "execution_count": 31,
   "id": "a70ce2ad",
   "metadata": {},
   "outputs": [],
   "source": [
    "import torch\n",
    "import numpy as np\n",
    "import pandas as pd\n",
    "import os\n",
    "import sys\n",
    "import json\n",
    "import warnings\n",
    "\n",
    "sys.path.append(os.path.join(sys.path[0], '../'))\n",
    "from models import manager_for_sagittarius\n",
    "from evaluation import initialize_experiment\n",
    "from TCGA import utils, filter_censored_patients, compute_non_stationary_genes\n",
    "from config import TCGA_DATA_LOC"
   ]
  },
  {
   "cell_type": "code",
   "execution_count": null,
   "id": "08251c4d",
   "metadata": {},
   "outputs": [],
   "source": []
  },
  {
   "cell_type": "code",
   "execution_count": 16,
   "id": "70b25a28",
   "metadata": {},
   "outputs": [],
   "source": [
    "device = 'cuda:1'"
   ]
  },
  {
   "cell_type": "code",
   "execution_count": null,
   "id": "7ac15a95",
   "metadata": {},
   "outputs": [],
   "source": []
  },
  {
   "cell_type": "markdown",
   "id": "1cec8a6d",
   "metadata": {},
   "source": [
    "# Load the data"
   ]
  },
  {
   "cell_type": "code",
   "execution_count": 17,
   "id": "03aa6cc8",
   "metadata": {
    "scrolled": true
   },
   "outputs": [
    {
     "name": "stderr",
     "output_type": "stream",
     "text": [
      "\r",
      "0it [00:00, ?it/s]"
     ]
    },
    {
     "name": "stdout",
     "output_type": "stream",
     "text": [
      "...ACC had 0 patients\n",
      "...BLCA had 391 patients\n"
     ]
    },
    {
     "name": "stderr",
     "output_type": "stream",
     "text": [
      "\r",
      "2it [00:00,  7.34it/s]"
     ]
    },
    {
     "name": "stdout",
     "output_type": "stream",
     "text": [
      "...BRCA had 973 patients\n"
     ]
    },
    {
     "name": "stderr",
     "output_type": "stream",
     "text": [
      "4it [00:01,  3.01it/s]"
     ]
    },
    {
     "name": "stdout",
     "output_type": "stream",
     "text": [
      "...CESC had 194 patients\n",
      "...CHOL had 32 patients\n",
      "...COAD had 366 patients\n"
     ]
    },
    {
     "name": "stderr",
     "output_type": "stream",
     "text": [
      "\r",
      "6it [00:01,  3.48it/s]"
     ]
    },
    {
     "name": "stdout",
     "output_type": "stream",
     "text": [
      "...COADREAD had 0 patients\n",
      "...DLBC had 40 patients\n",
      "...GBM had 277 patients\n"
     ]
    },
    {
     "name": "stderr",
     "output_type": "stream",
     "text": [
      "\r",
      "9it [00:02,  5.38it/s]"
     ]
    },
    {
     "name": "stdout",
     "output_type": "stream",
     "text": [
      "...GBMLGG had 0 patients\n",
      "...HNSC had 509 patients\n"
     ]
    },
    {
     "name": "stderr",
     "output_type": "stream",
     "text": [
      "\r",
      "11it [00:02,  5.41it/s]"
     ]
    },
    {
     "name": "stdout",
     "output_type": "stream",
     "text": [
      "...KICH had 64 patients\n",
      "...KIPAN had 0 patients\n",
      "...KIRC had 436 patients\n"
     ]
    },
    {
     "name": "stderr",
     "output_type": "stream",
     "text": [
      "\r",
      "14it [00:02,  6.87it/s]"
     ]
    },
    {
     "name": "stdout",
     "output_type": "stream",
     "text": [
      "...KIRP had 0 patients\n",
      "...LGG had 510 patients\n"
     ]
    },
    {
     "name": "stderr",
     "output_type": "stream",
     "text": [
      "17it [00:03,  6.49it/s]"
     ]
    },
    {
     "name": "stdout",
     "output_type": "stream",
     "text": [
      "...LIHC had 198 patients\n",
      "...LUAD had 471 patients\n"
     ]
    },
    {
     "name": "stderr",
     "output_type": "stream",
     "text": [
      "\r",
      "18it [00:03,  5.15it/s]"
     ]
    },
    {
     "name": "stdout",
     "output_type": "stream",
     "text": [
      "...LUSC had 173 patients\n",
      "...OV had 459 patients\n"
     ]
    },
    {
     "name": "stderr",
     "output_type": "stream",
     "text": [
      "\r",
      "20it [00:03,  5.11it/s]"
     ]
    },
    {
     "name": "stdout",
     "output_type": "stream",
     "text": [
      "...PAAD had 145 patients\n",
      "...PCPG had 0 patients\n",
      "...PRAD had 330 patients\n"
     ]
    },
    {
     "name": "stderr",
     "output_type": "stream",
     "text": [
      "24it [00:04,  6.88it/s]"
     ]
    },
    {
     "name": "stdout",
     "output_type": "stream",
     "text": [
      "...READ had 121 patients\n",
      "...SARC had 244 patients\n",
      "...STES had 285 patients\n"
     ]
    },
    {
     "name": "stderr",
     "output_type": "stream",
     "text": [
      "\r",
      "26it [00:04,  6.50it/s]"
     ]
    },
    {
     "name": "stdout",
     "output_type": "stream",
     "text": [
      "...TGCT had 130 patients\n",
      "...THCA had 401 patients\n"
     ]
    },
    {
     "name": "stderr",
     "output_type": "stream",
     "text": [
      "31it [00:05,  6.10it/s]\n"
     ]
    },
    {
     "name": "stdout",
     "output_type": "stream",
     "text": [
      "...UCEC had 248 patients\n",
      "...UCS had 0 patients\n",
      "...UVM had 68 patients\n"
     ]
    }
   ],
   "source": [
    "initialize_experiment.initialize_random_seed(0)\n",
    "\n",
    "highly_mutated = True  # check the gene mask that we should use\n",
    "ct_vec, muts, ts, mask, _, ct_mapping, gmask, censoring = utils.load_all_mutation_data(\n",
    "    remove_censored_data=False, restrict_to_highly_variable=highly_mutated)\n",
    "N, T, M = muts.shape\n",
    "C = len(ct_mapping)\n",
    "\n",
    "ct_vec = ct_vec[:, 0].to(device)\n",
    "muts = muts.to(device)\n",
    "ts = ts.to(device)\n",
    "mask = mask.to(device)\n",
    "gmask = gmask.to(device)\n",
    "censoring = censoring.to(device)\n",
    "\n",
    "cleaner = filter_censored_patients.filter_cancer_type_time_series(\n",
    "    muts, ts, censoring, mask, ct_vec, ct_mapping, load_from_file=True).to(device)\n",
    "mask = mask * cleaner  # filter censored patients\n",
    "maxT = torch.max(torch.masked_select(ts, mask.bool())).item()"
   ]
  },
  {
   "cell_type": "markdown",
   "id": "d3886298",
   "metadata": {},
   "source": [
    "# Load the model"
   ]
  },
  {
   "cell_type": "code",
   "execution_count": 18,
   "id": "f12d480b",
   "metadata": {},
   "outputs": [],
   "source": [
    "def load_config_file():\n",
    "    with open('model_config_files/Sagittarius_config.json', 'r') as f:\n",
    "        return json.load(f)"
   ]
  },
  {
   "cell_type": "code",
   "execution_count": 19,
   "id": "33411ac0",
   "metadata": {},
   "outputs": [],
   "source": [
    "initialize_experiment.initialize_random_seed(0)\n",
    "\n",
    "sagittairus_manager = manager_for_sagittarius.Sagittarius_Manager(\n",
    "    M, 1, [C], **load_config_file(), minT=0, maxT=maxT, device=device, train_transfer=False, \n",
    "    rec_loss='bce', batch_size=2)\n",
    "\n",
    "sagittairus_manager.train_model(\n",
    "    muts, ts, [ct_vec], mask, reload=True, mfile='trained_models/full_TCGA_model.pth')"
   ]
  },
  {
   "cell_type": "markdown",
   "id": "e10f39f5",
   "metadata": {},
   "source": [
    "# Start the extrapolation"
   ]
  },
  {
   "cell_type": "code",
   "execution_count": 20,
   "id": "51080f55",
   "metadata": {},
   "outputs": [],
   "source": [
    "survival_times_to_simulate = torch.tensor(np.arange(100, 300, 10)).to(device)\n",
    "gen_k = 10"
   ]
  },
  {
   "cell_type": "code",
   "execution_count": 24,
   "id": "083706b5",
   "metadata": {},
   "outputs": [
    {
     "name": "stderr",
     "output_type": "stream",
     "text": [
      "/homes/gws/addiewc/anaconda3/envs/codeGen/lib/python3.9/site-packages/torch/nn/modules/container.py:139: UserWarning: Implicit dimension choice for softmax has been deprecated. Change the call to include dim=X as an argument.\n",
      "  input = module(input)\n"
     ]
    }
   ],
   "source": [
    "sim_cancer_types = []\n",
    "sim_survival_times = []\n",
    "sim_expr = []\n",
    "\n",
    "initialize_experiment.initialize_random_seed(0)\n",
    "\n",
    "for i in range(N):\n",
    "    sim_cancer_types.extend([ct_mapping[ct_vec[i].item()] for _ in range(len(survival_times))])\n",
    "    sim_survival_times.append(survival_times_to_simulate.detach().cpu().numpy())\n",
    "    \n",
    "    gen, _, _ = sagittairus_manager.model.generate(\n",
    "        muts[i].unsqueeze(0).float(), ts[i].unsqueeze(0).float(), survival_times_to_simulate.unsqueeze(0).float(),\n",
    "        [torch.stack([ct_vec[i] for _ in range(T)]).unsqueeze(0)],\n",
    "        [torch.stack([ct_vec[i] for _ in range(len(survival_times_to_simulate))]).unsqueeze(0)],\n",
    "        mask[i].unsqueeze(0), k=gen_k)\n",
    "    sim_expr.append(gen[0])\n",
    "    \n",
    "sim_survival_times = np.concatenate(sim_survival_times)\n",
    "sim_expr = torch.stack(sim_expr).view(-1, 1000).detach().cpu().numpy()"
   ]
  },
  {
   "cell_type": "markdown",
   "id": "c09d52a6",
   "metadata": {},
   "source": [
    "# Create .h5ad file for results"
   ]
  },
  {
   "cell_type": "code",
   "execution_count": 41,
   "id": "350e856c",
   "metadata": {},
   "outputs": [
    {
     "name": "stderr",
     "output_type": "stream",
     "text": [
      "/tmp/ipykernel_3855860/4109470818.py:36: UserWarning: \tNo NCBI entry for 170063; depricated id?\n",
      "  warnings.warn('\\tNo NCBI entry for {}; depricated id?'.format(ncbi_id))\n"
     ]
    }
   ],
   "source": [
    "x = sim_expr\n",
    "obsm = {'cancer type': np.asarray([sim_cancer_types]),\n",
    "        'survival time': np.asarray([sim_survival_times])}\n",
    "\n",
    "with open(TCGA_DATA_LOC + 'geneNum_to_idx_mapping.txt', 'r') as f:\n",
    "    name2idx = json.load(f)\n",
    "k = 0\n",
    "for base in name2idx:\n",
    "    if k > 5:\n",
    "        k += 1\n",
    "        break\n",
    "    k += 1\n",
    "idx2name = {idx: name for name, idx in name2idx.items()}\n",
    "\n",
    "mapping = {}\n",
    "with open(TCGA_DATA_LOC + 'name_mapping.txt', 'r') as f:\n",
    "    for idx, line in enumerate(f.readlines()):\n",
    "        if idx == 0:\n",
    "            continue  # header line!\n",
    "        line_parts = line.split('\\t')\n",
    "        if len(line_parts) < 5:\n",
    "            continue\n",
    "        # line_parts[0] = approved symbol\n",
    "        # line_parts[3] = NCBI gene id\n",
    "        if line_parts[3] == '':  # didn't have it for this gene\n",
    "            continue\n",
    "        mapping[line_parts[3]] = line_parts[0]\n",
    "        \n",
    "remaining_gene_by_idx = {}  # gene -> idx\n",
    "gene_listing = []\n",
    "for m in range(len(gmask)):\n",
    "    if gmask[m] == 0:\n",
    "        continue  # we didn't keep it!\n",
    "    ncbi_id = idx2name[m]\n",
    "    if ncbi_id not in mapping:\n",
    "        warnings.warn('\\tNo NCBI entry for {}; depricated id?'.format(ncbi_id))\n",
    "        gene_name = ncbi_id\n",
    "    else:\n",
    "        gene_name = mapping[ncbi_id]\n",
    "    remaining_gene_by_idx[gene_name] = np.count_nonzero(gmask[:m].detach().cpu().numpy())\n",
    "    gene_listing.append(gene_name)\n",
    "idx_to_gene_mapping = {remaining_gene_by_idx[gene]: gene for gene in remaining_gene_by_idx}\n",
    "\n",
    "genes_included = [idx_to_gene_mapping[g] for g in range(1000)]\n",
    "var = pd.DataFrame.from_dict({'gene': genes_included})"
   ]
  },
  {
   "cell_type": "code",
   "execution_count": 42,
   "id": "4bfb8fb5",
   "metadata": {},
   "outputs": [],
   "source": [
    "if not os.path.exists('../simulated_datasets/'):\n",
    "    os.makedirs('../simulated_datasets/')"
   ]
  },
  {
   "cell_type": "code",
   "execution_count": 43,
   "id": "3b204217",
   "metadata": {},
   "outputs": [
    {
     "name": "stderr",
     "output_type": "stream",
     "text": [
      "/homes/gws/addiewc/anaconda3/envs/codeGen/lib/python3.9/site-packages/anndata/_core/anndata.py:121: ImplicitModificationWarning: Transforming to str index.\n",
      "  warnings.warn(\"Transforming to str index.\", ImplicitModificationWarning)\n"
     ]
    },
    {
     "ename": "ValueError",
     "evalue": "Value passed for key 'cancer type' is of incorrect shape. Values of obsm must match dimensions (0,) of parent. Value had shape (1, 480) while it should have had (480,).",
     "output_type": "error",
     "traceback": [
      "\u001b[0;31m---------------------------------------------------------------------------\u001b[0m",
      "\u001b[0;31mValueError\u001b[0m                                Traceback (most recent call last)",
      "\u001b[0;32m/tmp/ipykernel_3855860/3649707802.py\u001b[0m in \u001b[0;36m<module>\u001b[0;34m\u001b[0m\n\u001b[1;32m      1\u001b[0m \u001b[0;32mimport\u001b[0m \u001b[0manndata\u001b[0m\u001b[0;34m\u001b[0m\u001b[0;34m\u001b[0m\u001b[0m\n\u001b[1;32m      2\u001b[0m \u001b[0;34m\u001b[0m\u001b[0m\n\u001b[0;32m----> 3\u001b[0;31m \u001b[0madata\u001b[0m \u001b[0;34m=\u001b[0m \u001b[0manndata\u001b[0m\u001b[0;34m.\u001b[0m\u001b[0mAnnData\u001b[0m\u001b[0;34m(\u001b[0m\u001b[0mX\u001b[0m\u001b[0;34m=\u001b[0m\u001b[0mx\u001b[0m\u001b[0;34m,\u001b[0m \u001b[0mobsm\u001b[0m\u001b[0;34m=\u001b[0m\u001b[0mobsm\u001b[0m\u001b[0;34m,\u001b[0m \u001b[0mvar\u001b[0m\u001b[0;34m=\u001b[0m\u001b[0mvar\u001b[0m\u001b[0;34m)\u001b[0m\u001b[0;34m\u001b[0m\u001b[0;34m\u001b[0m\u001b[0m\n\u001b[0m\u001b[1;32m      4\u001b[0m \u001b[0madata\u001b[0m\u001b[0;34m.\u001b[0m\u001b[0mwrite\u001b[0m\u001b[0;34m(\u001b[0m\u001b[0;34m'../simulated_datasets/simulated_TCGA.h5ad'\u001b[0m\u001b[0;34m)\u001b[0m\u001b[0;34m\u001b[0m\u001b[0;34m\u001b[0m\u001b[0m\n",
      "\u001b[0;32m~/anaconda3/envs/codeGen/lib/python3.9/site-packages/anndata/_core/anndata.py\u001b[0m in \u001b[0;36m__init__\u001b[0;34m(self, X, obs, var, uns, obsm, varm, layers, raw, dtype, shape, filename, filemode, asview, obsp, varp, oidx, vidx)\u001b[0m\n\u001b[1;32m    289\u001b[0m             \u001b[0mself\u001b[0m\u001b[0;34m.\u001b[0m\u001b[0m_init_as_view\u001b[0m\u001b[0;34m(\u001b[0m\u001b[0mX\u001b[0m\u001b[0;34m,\u001b[0m \u001b[0moidx\u001b[0m\u001b[0;34m,\u001b[0m \u001b[0mvidx\u001b[0m\u001b[0;34m)\u001b[0m\u001b[0;34m\u001b[0m\u001b[0;34m\u001b[0m\u001b[0m\n\u001b[1;32m    290\u001b[0m         \u001b[0;32melse\u001b[0m\u001b[0;34m:\u001b[0m\u001b[0;34m\u001b[0m\u001b[0;34m\u001b[0m\u001b[0m\n\u001b[0;32m--> 291\u001b[0;31m             self._init_as_actual(\n\u001b[0m\u001b[1;32m    292\u001b[0m                 \u001b[0mX\u001b[0m\u001b[0;34m=\u001b[0m\u001b[0mX\u001b[0m\u001b[0;34m,\u001b[0m\u001b[0;34m\u001b[0m\u001b[0;34m\u001b[0m\u001b[0m\n\u001b[1;32m    293\u001b[0m                 \u001b[0mobs\u001b[0m\u001b[0;34m=\u001b[0m\u001b[0mobs\u001b[0m\u001b[0;34m,\u001b[0m\u001b[0;34m\u001b[0m\u001b[0;34m\u001b[0m\u001b[0m\n",
      "\u001b[0;32m~/anaconda3/envs/codeGen/lib/python3.9/site-packages/anndata/_core/anndata.py\u001b[0m in \u001b[0;36m_init_as_actual\u001b[0;34m(self, X, obs, var, uns, obsm, varm, varp, obsp, raw, layers, dtype, shape, filename, filemode)\u001b[0m\n\u001b[1;32m    510\u001b[0m \u001b[0;34m\u001b[0m\u001b[0m\n\u001b[1;32m    511\u001b[0m         \u001b[0;31m# TODO: Think about consequences of making obsm a group in hdf\u001b[0m\u001b[0;34m\u001b[0m\u001b[0;34m\u001b[0m\u001b[0m\n\u001b[0;32m--> 512\u001b[0;31m         \u001b[0mself\u001b[0m\u001b[0;34m.\u001b[0m\u001b[0m_obsm\u001b[0m \u001b[0;34m=\u001b[0m \u001b[0mAxisArrays\u001b[0m\u001b[0;34m(\u001b[0m\u001b[0mself\u001b[0m\u001b[0;34m,\u001b[0m \u001b[0;36m0\u001b[0m\u001b[0;34m,\u001b[0m \u001b[0mvals\u001b[0m\u001b[0;34m=\u001b[0m\u001b[0mconvert_to_dict\u001b[0m\u001b[0;34m(\u001b[0m\u001b[0mobsm\u001b[0m\u001b[0;34m)\u001b[0m\u001b[0;34m)\u001b[0m\u001b[0;34m\u001b[0m\u001b[0;34m\u001b[0m\u001b[0m\n\u001b[0m\u001b[1;32m    513\u001b[0m         \u001b[0mself\u001b[0m\u001b[0;34m.\u001b[0m\u001b[0m_varm\u001b[0m \u001b[0;34m=\u001b[0m \u001b[0mAxisArrays\u001b[0m\u001b[0;34m(\u001b[0m\u001b[0mself\u001b[0m\u001b[0;34m,\u001b[0m \u001b[0;36m1\u001b[0m\u001b[0;34m,\u001b[0m \u001b[0mvals\u001b[0m\u001b[0;34m=\u001b[0m\u001b[0mconvert_to_dict\u001b[0m\u001b[0;34m(\u001b[0m\u001b[0mvarm\u001b[0m\u001b[0;34m)\u001b[0m\u001b[0;34m)\u001b[0m\u001b[0;34m\u001b[0m\u001b[0;34m\u001b[0m\u001b[0m\n\u001b[1;32m    514\u001b[0m \u001b[0;34m\u001b[0m\u001b[0m\n",
      "\u001b[0;32m~/anaconda3/envs/codeGen/lib/python3.9/site-packages/anndata/_core/aligned_mapping.py\u001b[0m in \u001b[0;36m__init__\u001b[0;34m(self, parent, axis, vals)\u001b[0m\n\u001b[1;32m    233\u001b[0m         \u001b[0mself\u001b[0m\u001b[0;34m.\u001b[0m\u001b[0m_data\u001b[0m \u001b[0;34m=\u001b[0m \u001b[0mdict\u001b[0m\u001b[0;34m(\u001b[0m\u001b[0;34m)\u001b[0m\u001b[0;34m\u001b[0m\u001b[0;34m\u001b[0m\u001b[0m\n\u001b[1;32m    234\u001b[0m         \u001b[0;32mif\u001b[0m \u001b[0mvals\u001b[0m \u001b[0;32mis\u001b[0m \u001b[0;32mnot\u001b[0m \u001b[0;32mNone\u001b[0m\u001b[0;34m:\u001b[0m\u001b[0;34m\u001b[0m\u001b[0;34m\u001b[0m\u001b[0m\n\u001b[0;32m--> 235\u001b[0;31m             \u001b[0mself\u001b[0m\u001b[0;34m.\u001b[0m\u001b[0mupdate\u001b[0m\u001b[0;34m(\u001b[0m\u001b[0mvals\u001b[0m\u001b[0;34m)\u001b[0m\u001b[0;34m\u001b[0m\u001b[0;34m\u001b[0m\u001b[0m\n\u001b[0m\u001b[1;32m    236\u001b[0m \u001b[0;34m\u001b[0m\u001b[0m\n\u001b[1;32m    237\u001b[0m \u001b[0;34m\u001b[0m\u001b[0m\n",
      "\u001b[0;32m~/anaconda3/envs/codeGen/lib/python3.9/_collections_abc.py\u001b[0m in \u001b[0;36mupdate\u001b[0;34m(self, other, **kwds)\u001b[0m\n\u001b[1;32m    939\u001b[0m         \u001b[0;32mif\u001b[0m \u001b[0misinstance\u001b[0m\u001b[0;34m(\u001b[0m\u001b[0mother\u001b[0m\u001b[0;34m,\u001b[0m \u001b[0mMapping\u001b[0m\u001b[0;34m)\u001b[0m\u001b[0;34m:\u001b[0m\u001b[0;34m\u001b[0m\u001b[0;34m\u001b[0m\u001b[0m\n\u001b[1;32m    940\u001b[0m             \u001b[0;32mfor\u001b[0m \u001b[0mkey\u001b[0m \u001b[0;32min\u001b[0m \u001b[0mother\u001b[0m\u001b[0;34m:\u001b[0m\u001b[0;34m\u001b[0m\u001b[0;34m\u001b[0m\u001b[0m\n\u001b[0;32m--> 941\u001b[0;31m                 \u001b[0mself\u001b[0m\u001b[0;34m[\u001b[0m\u001b[0mkey\u001b[0m\u001b[0;34m]\u001b[0m \u001b[0;34m=\u001b[0m \u001b[0mother\u001b[0m\u001b[0;34m[\u001b[0m\u001b[0mkey\u001b[0m\u001b[0;34m]\u001b[0m\u001b[0;34m\u001b[0m\u001b[0;34m\u001b[0m\u001b[0m\n\u001b[0m\u001b[1;32m    942\u001b[0m         \u001b[0;32melif\u001b[0m \u001b[0mhasattr\u001b[0m\u001b[0;34m(\u001b[0m\u001b[0mother\u001b[0m\u001b[0;34m,\u001b[0m \u001b[0;34m\"keys\"\u001b[0m\u001b[0;34m)\u001b[0m\u001b[0;34m:\u001b[0m\u001b[0;34m\u001b[0m\u001b[0;34m\u001b[0m\u001b[0m\n\u001b[1;32m    943\u001b[0m             \u001b[0;32mfor\u001b[0m \u001b[0mkey\u001b[0m \u001b[0;32min\u001b[0m \u001b[0mother\u001b[0m\u001b[0;34m.\u001b[0m\u001b[0mkeys\u001b[0m\u001b[0;34m(\u001b[0m\u001b[0;34m)\u001b[0m\u001b[0;34m:\u001b[0m\u001b[0;34m\u001b[0m\u001b[0;34m\u001b[0m\u001b[0m\n",
      "\u001b[0;32m~/anaconda3/envs/codeGen/lib/python3.9/site-packages/anndata/_core/aligned_mapping.py\u001b[0m in \u001b[0;36m__setitem__\u001b[0;34m(self, key, value)\u001b[0m\n\u001b[1;32m    149\u001b[0m \u001b[0;34m\u001b[0m\u001b[0m\n\u001b[1;32m    150\u001b[0m     \u001b[0;32mdef\u001b[0m \u001b[0m__setitem__\u001b[0m\u001b[0;34m(\u001b[0m\u001b[0mself\u001b[0m\u001b[0;34m,\u001b[0m \u001b[0mkey\u001b[0m\u001b[0;34m:\u001b[0m \u001b[0mstr\u001b[0m\u001b[0;34m,\u001b[0m \u001b[0mvalue\u001b[0m\u001b[0;34m:\u001b[0m \u001b[0mV\u001b[0m\u001b[0;34m)\u001b[0m\u001b[0;34m:\u001b[0m\u001b[0;34m\u001b[0m\u001b[0;34m\u001b[0m\u001b[0m\n\u001b[0;32m--> 151\u001b[0;31m         \u001b[0mvalue\u001b[0m \u001b[0;34m=\u001b[0m \u001b[0mself\u001b[0m\u001b[0;34m.\u001b[0m\u001b[0m_validate_value\u001b[0m\u001b[0;34m(\u001b[0m\u001b[0mvalue\u001b[0m\u001b[0;34m,\u001b[0m \u001b[0mkey\u001b[0m\u001b[0;34m)\u001b[0m\u001b[0;34m\u001b[0m\u001b[0;34m\u001b[0m\u001b[0m\n\u001b[0m\u001b[1;32m    152\u001b[0m         \u001b[0mself\u001b[0m\u001b[0;34m.\u001b[0m\u001b[0m_data\u001b[0m\u001b[0;34m[\u001b[0m\u001b[0mkey\u001b[0m\u001b[0;34m]\u001b[0m \u001b[0;34m=\u001b[0m \u001b[0mvalue\u001b[0m\u001b[0;34m\u001b[0m\u001b[0;34m\u001b[0m\u001b[0m\n\u001b[1;32m    153\u001b[0m \u001b[0;34m\u001b[0m\u001b[0m\n",
      "\u001b[0;32m~/anaconda3/envs/codeGen/lib/python3.9/site-packages/anndata/_core/aligned_mapping.py\u001b[0m in \u001b[0;36m_validate_value\u001b[0;34m(self, val, key)\u001b[0m\n\u001b[1;32m    213\u001b[0m                 \u001b[0;34mf\"value.index does not match parent’s axis {self.axes[0]} names\"\u001b[0m\u001b[0;34m\u001b[0m\u001b[0;34m\u001b[0m\u001b[0m\n\u001b[1;32m    214\u001b[0m             )\n\u001b[0;32m--> 215\u001b[0;31m         \u001b[0;32mreturn\u001b[0m \u001b[0msuper\u001b[0m\u001b[0;34m(\u001b[0m\u001b[0;34m)\u001b[0m\u001b[0;34m.\u001b[0m\u001b[0m_validate_value\u001b[0m\u001b[0;34m(\u001b[0m\u001b[0mval\u001b[0m\u001b[0;34m,\u001b[0m \u001b[0mkey\u001b[0m\u001b[0;34m)\u001b[0m\u001b[0;34m\u001b[0m\u001b[0;34m\u001b[0m\u001b[0m\n\u001b[0m\u001b[1;32m    216\u001b[0m \u001b[0;34m\u001b[0m\u001b[0m\n\u001b[1;32m    217\u001b[0m     \u001b[0;34m@\u001b[0m\u001b[0mproperty\u001b[0m\u001b[0;34m\u001b[0m\u001b[0;34m\u001b[0m\u001b[0m\n",
      "\u001b[0;32m~/anaconda3/envs/codeGen/lib/python3.9/site-packages/anndata/_core/aligned_mapping.py\u001b[0m in \u001b[0;36m_validate_value\u001b[0;34m(self, val, key)\u001b[0m\n\u001b[1;32m     50\u001b[0m             \u001b[0;32mif\u001b[0m \u001b[0mself\u001b[0m\u001b[0;34m.\u001b[0m\u001b[0mparent\u001b[0m\u001b[0;34m.\u001b[0m\u001b[0mshape\u001b[0m\u001b[0;34m[\u001b[0m\u001b[0maxis\u001b[0m\u001b[0;34m]\u001b[0m \u001b[0;34m!=\u001b[0m \u001b[0mval\u001b[0m\u001b[0;34m.\u001b[0m\u001b[0mshape\u001b[0m\u001b[0;34m[\u001b[0m\u001b[0mi\u001b[0m\u001b[0;34m]\u001b[0m\u001b[0;34m:\u001b[0m\u001b[0;34m\u001b[0m\u001b[0;34m\u001b[0m\u001b[0m\n\u001b[1;32m     51\u001b[0m                 \u001b[0mright_shape\u001b[0m \u001b[0;34m=\u001b[0m \u001b[0mtuple\u001b[0m\u001b[0;34m(\u001b[0m\u001b[0mself\u001b[0m\u001b[0;34m.\u001b[0m\u001b[0mparent\u001b[0m\u001b[0;34m.\u001b[0m\u001b[0mshape\u001b[0m\u001b[0;34m[\u001b[0m\u001b[0ma\u001b[0m\u001b[0;34m]\u001b[0m \u001b[0;32mfor\u001b[0m \u001b[0ma\u001b[0m \u001b[0;32min\u001b[0m \u001b[0mself\u001b[0m\u001b[0;34m.\u001b[0m\u001b[0maxes\u001b[0m\u001b[0;34m)\u001b[0m\u001b[0;34m\u001b[0m\u001b[0;34m\u001b[0m\u001b[0m\n\u001b[0;32m---> 52\u001b[0;31m                 raise ValueError(\n\u001b[0m\u001b[1;32m     53\u001b[0m                     \u001b[0;34mf\"Value passed for key {key!r} is of incorrect shape. \"\u001b[0m\u001b[0;34m\u001b[0m\u001b[0;34m\u001b[0m\u001b[0m\n\u001b[1;32m     54\u001b[0m                     \u001b[0;34mf\"Values of {self.attrname} must match dimensions \"\u001b[0m\u001b[0;34m\u001b[0m\u001b[0;34m\u001b[0m\u001b[0m\n",
      "\u001b[0;31mValueError\u001b[0m: Value passed for key 'cancer type' is of incorrect shape. Values of obsm must match dimensions (0,) of parent. Value had shape (1, 480) while it should have had (480,)."
     ]
    }
   ],
   "source": [
    "import anndata\n",
    "\n",
    "adata = anndata.AnnData(X=x, obsm=obsm, var=var)\n",
    "adata.write('../simulated_datasets/simulated_TCGA.h5ad')"
   ]
  },
  {
   "cell_type": "code",
   "execution_count": null,
   "id": "515095bc",
   "metadata": {},
   "outputs": [],
   "source": []
  }
 ],
 "metadata": {
  "kernelspec": {
   "display_name": "Python 3 (ipykernel)",
   "language": "python",
   "name": "python3"
  },
  "language_info": {
   "codemirror_mode": {
    "name": "ipython",
    "version": 3
   },
   "file_extension": ".py",
   "mimetype": "text/x-python",
   "name": "python",
   "nbconvert_exporter": "python",
   "pygments_lexer": "ipython3",
   "version": "3.9.7"
  }
 },
 "nbformat": 4,
 "nbformat_minor": 5
}

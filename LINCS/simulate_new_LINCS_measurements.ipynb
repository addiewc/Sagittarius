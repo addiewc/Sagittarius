{
 "cells": [
  {
   "cell_type": "code",
   "execution_count": 1,
   "id": "4fb5959b",
   "metadata": {},
   "outputs": [],
   "source": [
    "import torch\n",
    "import numpy as np\n",
    "import pandas as pd\n",
    "import os\n",
    "import sys\n",
    "import json\n",
    "\n",
    "sys.path.append(os.path.join(sys.path[0], '../'))\n",
    "from models import manager_for_sagittarius\n",
    "from evaluation import initialize_experiment\n",
    "from LINCS import utils"
   ]
  },
  {
   "cell_type": "code",
   "execution_count": null,
   "id": "fc457137",
   "metadata": {},
   "outputs": [],
   "source": []
  },
  {
   "cell_type": "code",
   "execution_count": 2,
   "id": "108f397b",
   "metadata": {},
   "outputs": [],
   "source": [
    "device = 'cuda:1'"
   ]
  },
  {
   "cell_type": "code",
   "execution_count": null,
   "id": "86bb00eb",
   "metadata": {},
   "outputs": [],
   "source": []
  },
  {
   "cell_type": "markdown",
   "id": "fdd5a911",
   "metadata": {},
   "source": [
    "# Load the data"
   ]
  },
  {
   "cell_type": "code",
   "execution_count": 3,
   "id": "c73d5466",
   "metadata": {},
   "outputs": [],
   "source": [
    "initialize_experiment.initialize_random_seed(0)\n",
    "\n",
    "dl = utils.load_all_joint_data(0, device, False, 'full_dataset')"
   ]
  },
  {
   "cell_type": "markdown",
   "id": "90da36b7",
   "metadata": {},
   "source": [
    "# Load the model"
   ]
  },
  {
   "cell_type": "code",
   "execution_count": 4,
   "id": "7c85d9d0",
   "metadata": {},
   "outputs": [],
   "source": [
    "def load_config_file():\n",
    "    with open('model_config_files/Sagittarius_config.json', 'r') as f:\n",
    "        return json.load(f)"
   ]
  },
  {
   "cell_type": "code",
   "execution_count": 5,
   "id": "69de7cb6",
   "metadata": {},
   "outputs": [],
   "source": [
    "# Now, conduct extrapolation experiment task\n",
    "initialize_experiment.initialize_random_seed(0)\n",
    "\n",
    "# Train the model\n",
    "D = len(dl.get_drug_list())\n",
    "C = len(dl.get_cell_list())\n",
    "M = dl.get_feature_dim()\n",
    "max_dsg = dl.get_max_dosage()\n",
    "max_time = dl.get_max_time()\n",
    "\n",
    "sagittarius_manager = manager_for_sagittarius.Sagittarius_Manager_DataLoader(\n",
    "    M, 2, [D, C], **load_config_file(), minT=0, maxT=max_dsg, num_cont=2,\n",
    "    device=device, train_transfer=False, other_minT=[0], other_maxT=[max_time])\n",
    "sagittarius_manager.train_model(\n",
    "    dl, reload=True, mfile='trained_models/Sagittarius_full_model.pth')"
   ]
  },
  {
   "cell_type": "markdown",
   "id": "32051c44",
   "metadata": {},
   "source": [
    "# Start the extrapolation"
   ]
  },
  {
   "cell_type": "markdown",
   "id": "9fdd7901",
   "metadata": {},
   "source": [
    "### These doses and treatment times can be updates to specific doses/treatment times of interest!"
   ]
  },
  {
   "cell_type": "code",
   "execution_count": 7,
   "id": "3dd55613",
   "metadata": {},
   "outputs": [],
   "source": [
    "dosages_to_simulate = torch.tensor([\n",
    "    0, 1e-10, 1e-9, 1e-8, 1e-7, 1e-6, 1e-5, 1e-4, 1e-3, 1e-2, 1e-1, 0.5, 1.0, 1.1, 1.2, 1.3, 1.4, 1.5, \n",
    "    1.6, 1.7, 1.8, 1.9, 2.0, 2.2, 2.4, 2.6, 2.8, 3.0, 3.5, 4.0, 4.5, 5.0, 5.5, 6.0, 6.5, 7.0, 7.5, 8.0,\n",
    "    8.5, 9.0, 9.5, 10.0] + np.arange(10, 20.1, 0.5).tolist())\n",
    "treatment_times_to_simulate = torch.tensor(np.arange(4, 49, 4))\n",
    "gen_k = 10"
   ]
  },
  {
   "cell_type": "code",
   "execution_count": 8,
   "id": "c781ba7f",
   "metadata": {},
   "outputs": [
    {
     "data": {
      "text/plain": [
       "(torch.Size([63]), torch.Size([12]))"
      ]
     },
     "execution_count": 8,
     "metadata": {},
     "output_type": "execute_result"
    }
   ],
   "source": [
    "dosages_to_simulate.shape, treatment_times_to_simulate.shape"
   ]
  },
  {
   "cell_type": "code",
   "execution_count": 9,
   "id": "6e46c635",
   "metadata": {},
   "outputs": [
    {
     "name": "stdout",
     "output_type": "stream",
     "text": [
      "33 x 775 = 25575\n"
     ]
    }
   ],
   "source": [
    "cell_lines = dl.get_cell_list()\n",
    "drugs = dl.get_drug_list()\n",
    "\n",
    "print(C, 'x', D, '=', C * D)"
   ]
  },
  {
   "cell_type": "code",
   "execution_count": 10,
   "id": "00c95200",
   "metadata": {},
   "outputs": [],
   "source": [
    "# construct a dictionary of possible sources\n",
    "drug2idx = dl.train_dataset.drug_id_to_idx_mapping\n",
    "idx2drug = {drug2idx[dr]: dr for dr in drug2idx}\n",
    "cell2idx = dl.train_dataset.cell_id_to_idx_mapping\n",
    "idx2cell = {cell2idx[ce]: ce for ce in cell2idx}\n",
    "\n",
    "sources = {ce: {} for ce in dl.get_cell_list()}  # cell line -> drug -> details\n",
    "for split in ['train', 'val', 'test']:  # go through the complete dataset\n",
    "    for expr, dr, ce, dsg, time, mask in dl.get_data_loader(split):\n",
    "        for i in range(len(expr)):\n",
    "            sources[idx2cell[ce[i].item()]].update({\n",
    "                idx2drug[dr[i].item()]: (expr[i], dr[i], ce[i], dsg[i], time[i], mask[i])})"
   ]
  },
  {
   "cell_type": "markdown",
   "id": "a1aafda8",
   "metadata": {},
   "source": [
    "## Create .h5ad file for each cell line"
   ]
  },
  {
   "cell_type": "code",
   "execution_count": 11,
   "id": "11877f15",
   "metadata": {
    "scrolled": true
   },
   "outputs": [
    {
     "name": "stderr",
     "output_type": "stream",
     "text": [
      "\r",
      "  0%|                                                                     | 0/33 [00:00<?, ?it/s]"
     ]
    },
    {
     "name": "stdout",
     "output_type": "stream",
     "text": [
      "...0/33\n"
     ]
    },
    {
     "name": "stderr",
     "output_type": "stream",
     "text": [
      "  0%|                                                                    | 0/775 [00:00<?, ?it/s]/homes/gws/addiewc/anaconda3/envs/codeGen/lib/python3.9/site-packages/torch/nn/modules/container.py:139: UserWarning: Implicit dimension choice for softmax has been deprecated. Change the call to include dim=X as an argument.\n",
      "  input = module(input)\n",
      "100%|██████████████████████████████████████████████████████████| 775/775 [00:52<00:00, 14.89it/s]\n",
      "/homes/gws/addiewc/anaconda3/envs/codeGen/lib/python3.9/site-packages/anndata/_core/anndata.py:121: ImplicitModificationWarning: Transforming to str index.\n",
      "  warnings.warn(\"Transforming to str index.\", ImplicitModificationWarning)\n",
      "  3%|█▊                                                           | 1/33 [01:07<35:47, 67.11s/it]"
     ]
    },
    {
     "name": "stdout",
     "output_type": "stream",
     "text": [
      "...1/33\n"
     ]
    },
    {
     "name": "stderr",
     "output_type": "stream",
     "text": [
      "100%|██████████████████████████████████████████████████████████| 775/775 [00:49<00:00, 15.66it/s]\n",
      "  6%|███▋                                                         | 2/33 [02:00<30:23, 58.81s/it]"
     ]
    },
    {
     "name": "stdout",
     "output_type": "stream",
     "text": [
      "...2/33\n"
     ]
    },
    {
     "name": "stderr",
     "output_type": "stream",
     "text": [
      "100%|██████████████████████████████████████████████████████████| 775/775 [00:49<00:00, 15.65it/s]\n",
      "  9%|█████▌                                                       | 3/33 [02:53<28:04, 56.15s/it]"
     ]
    },
    {
     "name": "stdout",
     "output_type": "stream",
     "text": [
      "...3/33\n"
     ]
    },
    {
     "name": "stderr",
     "output_type": "stream",
     "text": [
      "100%|██████████████████████████████████████████████████████████| 775/775 [00:49<00:00, 15.66it/s]\n",
      " 12%|███████▍                                                     | 4/33 [03:46<26:31, 54.89s/it]"
     ]
    },
    {
     "name": "stdout",
     "output_type": "stream",
     "text": [
      "...4/33\n"
     ]
    },
    {
     "name": "stderr",
     "output_type": "stream",
     "text": [
      "100%|██████████████████████████████████████████████████████████| 775/775 [00:49<00:00, 15.55it/s]\n",
      " 15%|█████████▏                                                   | 5/33 [04:39<25:21, 54.33s/it]"
     ]
    },
    {
     "name": "stdout",
     "output_type": "stream",
     "text": [
      "...5/33\n"
     ]
    },
    {
     "name": "stderr",
     "output_type": "stream",
     "text": [
      "100%|██████████████████████████████████████████████████████████| 775/775 [00:50<00:00, 15.50it/s]\n",
      " 18%|███████████                                                  | 6/33 [05:32<24:19, 54.05s/it]"
     ]
    },
    {
     "name": "stdout",
     "output_type": "stream",
     "text": [
      "...6/33\n"
     ]
    },
    {
     "name": "stderr",
     "output_type": "stream",
     "text": [
      "100%|██████████████████████████████████████████████████████████| 775/775 [00:50<00:00, 15.48it/s]\n",
      " 21%|████████████▉                                                | 7/33 [06:26<23:21, 53.90s/it]"
     ]
    },
    {
     "name": "stdout",
     "output_type": "stream",
     "text": [
      "...7/33\n"
     ]
    },
    {
     "name": "stderr",
     "output_type": "stream",
     "text": [
      "100%|██████████████████████████████████████████████████████████| 775/775 [00:49<00:00, 15.59it/s]\n",
      " 24%|██████████████▊                                              | 8/33 [07:19<22:21, 53.68s/it]"
     ]
    },
    {
     "name": "stdout",
     "output_type": "stream",
     "text": [
      "...8/33\n"
     ]
    },
    {
     "name": "stderr",
     "output_type": "stream",
     "text": [
      "100%|██████████████████████████████████████████████████████████| 775/775 [00:49<00:00, 15.58it/s]\n",
      " 27%|████████████████▋                                            | 9/33 [08:12<21:25, 53.56s/it]"
     ]
    },
    {
     "name": "stdout",
     "output_type": "stream",
     "text": [
      "...9/33\n"
     ]
    },
    {
     "name": "stderr",
     "output_type": "stream",
     "text": [
      "100%|██████████████████████████████████████████████████████████| 775/775 [00:49<00:00, 15.59it/s]\n",
      " 30%|██████████████████▏                                         | 10/33 [09:06<20:29, 53.46s/it]"
     ]
    },
    {
     "name": "stdout",
     "output_type": "stream",
     "text": [
      "...10/33\n"
     ]
    },
    {
     "name": "stderr",
     "output_type": "stream",
     "text": [
      "100%|██████████████████████████████████████████████████████████| 775/775 [00:51<00:00, 14.98it/s]\n",
      " 33%|████████████████████                                        | 11/33 [10:01<19:47, 54.00s/it]"
     ]
    },
    {
     "name": "stdout",
     "output_type": "stream",
     "text": [
      "...11/33\n"
     ]
    },
    {
     "name": "stderr",
     "output_type": "stream",
     "text": [
      "100%|██████████████████████████████████████████████████████████| 775/775 [00:49<00:00, 15.55it/s]\n",
      " 36%|█████████████████████▊                                      | 12/33 [10:54<18:49, 53.79s/it]"
     ]
    },
    {
     "name": "stdout",
     "output_type": "stream",
     "text": [
      "...12/33\n"
     ]
    },
    {
     "name": "stderr",
     "output_type": "stream",
     "text": [
      "100%|██████████████████████████████████████████████████████████| 775/775 [00:49<00:00, 15.65it/s]\n",
      " 39%|███████████████████████▋                                    | 13/33 [11:47<17:51, 53.56s/it]"
     ]
    },
    {
     "name": "stdout",
     "output_type": "stream",
     "text": [
      "...13/33\n"
     ]
    },
    {
     "name": "stderr",
     "output_type": "stream",
     "text": [
      "100%|██████████████████████████████████████████████████████████| 775/775 [00:49<00:00, 15.60it/s]\n",
      " 42%|█████████████████████████▍                                  | 14/33 [12:41<16:57, 53.53s/it]"
     ]
    },
    {
     "name": "stdout",
     "output_type": "stream",
     "text": [
      "...14/33\n"
     ]
    },
    {
     "name": "stderr",
     "output_type": "stream",
     "text": [
      "100%|██████████████████████████████████████████████████████████| 775/775 [00:51<00:00, 15.17it/s]\n",
      " 45%|███████████████████████████▎                                | 15/33 [13:35<16:09, 53.85s/it]"
     ]
    },
    {
     "name": "stdout",
     "output_type": "stream",
     "text": [
      "...15/33\n"
     ]
    },
    {
     "name": "stderr",
     "output_type": "stream",
     "text": [
      "100%|██████████████████████████████████████████████████████████| 775/775 [00:49<00:00, 15.71it/s]\n",
      " 48%|█████████████████████████████                               | 16/33 [14:28<15:10, 53.54s/it]"
     ]
    },
    {
     "name": "stdout",
     "output_type": "stream",
     "text": [
      "...16/33\n"
     ]
    },
    {
     "name": "stderr",
     "output_type": "stream",
     "text": [
      "100%|██████████████████████████████████████████████████████████| 775/775 [00:49<00:00, 15.60it/s]\n",
      " 52%|██████████████████████████████▉                             | 17/33 [15:21<14:14, 53.43s/it]"
     ]
    },
    {
     "name": "stdout",
     "output_type": "stream",
     "text": [
      "...17/33\n"
     ]
    },
    {
     "name": "stderr",
     "output_type": "stream",
     "text": [
      "100%|██████████████████████████████████████████████████████████| 775/775 [00:49<00:00, 15.52it/s]\n",
      " 55%|████████████████████████████████▋                           | 18/33 [16:15<13:21, 53.43s/it]"
     ]
    },
    {
     "name": "stdout",
     "output_type": "stream",
     "text": [
      "...18/33\n"
     ]
    },
    {
     "name": "stderr",
     "output_type": "stream",
     "text": [
      "100%|██████████████████████████████████████████████████████████| 775/775 [00:49<00:00, 15.68it/s]\n",
      " 58%|██████████████████████████████████▌                         | 19/33 [17:08<12:25, 53.28s/it]"
     ]
    },
    {
     "name": "stdout",
     "output_type": "stream",
     "text": [
      "...19/33\n"
     ]
    },
    {
     "name": "stderr",
     "output_type": "stream",
     "text": [
      "100%|██████████████████████████████████████████████████████████| 775/775 [00:49<00:00, 15.67it/s]\n",
      " 61%|████████████████████████████████████▎                       | 20/33 [18:01<11:31, 53.18s/it]"
     ]
    },
    {
     "name": "stdout",
     "output_type": "stream",
     "text": [
      "...20/33\n"
     ]
    },
    {
     "name": "stderr",
     "output_type": "stream",
     "text": [
      "100%|██████████████████████████████████████████████████████████| 775/775 [00:49<00:00, 15.64it/s]\n",
      " 64%|██████████████████████████████████████▏                     | 21/33 [18:54<10:37, 53.13s/it]"
     ]
    },
    {
     "name": "stdout",
     "output_type": "stream",
     "text": [
      "...21/33\n"
     ]
    },
    {
     "name": "stderr",
     "output_type": "stream",
     "text": [
      "100%|██████████████████████████████████████████████████████████| 775/775 [00:49<00:00, 15.61it/s]\n",
      " 67%|████████████████████████████████████████                    | 22/33 [19:47<09:44, 53.14s/it]"
     ]
    },
    {
     "name": "stdout",
     "output_type": "stream",
     "text": [
      "...22/33\n"
     ]
    },
    {
     "name": "stderr",
     "output_type": "stream",
     "text": [
      "100%|██████████████████████████████████████████████████████████| 775/775 [00:49<00:00, 15.65it/s]\n",
      " 70%|█████████████████████████████████████████▊                  | 23/33 [20:40<08:51, 53.10s/it]"
     ]
    },
    {
     "name": "stdout",
     "output_type": "stream",
     "text": [
      "...23/33\n"
     ]
    },
    {
     "name": "stderr",
     "output_type": "stream",
     "text": [
      "100%|██████████████████████████████████████████████████████████| 775/775 [00:49<00:00, 15.67it/s]\n",
      " 73%|███████████████████████████████████████████▋                | 24/33 [21:33<07:57, 53.05s/it]"
     ]
    },
    {
     "name": "stdout",
     "output_type": "stream",
     "text": [
      "...24/33\n"
     ]
    },
    {
     "name": "stderr",
     "output_type": "stream",
     "text": [
      "100%|██████████████████████████████████████████████████████████| 775/775 [00:49<00:00, 15.65it/s]\n",
      " 76%|█████████████████████████████████████████████▍              | 25/33 [22:26<07:04, 53.04s/it]"
     ]
    },
    {
     "name": "stdout",
     "output_type": "stream",
     "text": [
      "...25/33\n"
     ]
    },
    {
     "name": "stderr",
     "output_type": "stream",
     "text": [
      "100%|██████████████████████████████████████████████████████████| 775/775 [00:49<00:00, 15.65it/s]\n",
      " 79%|███████████████████████████████████████████████▎            | 26/33 [23:19<06:11, 53.04s/it]"
     ]
    },
    {
     "name": "stdout",
     "output_type": "stream",
     "text": [
      "...26/33\n"
     ]
    },
    {
     "name": "stderr",
     "output_type": "stream",
     "text": [
      "100%|██████████████████████████████████████████████████████████| 775/775 [00:49<00:00, 15.67it/s]\n",
      " 82%|█████████████████████████████████████████████████           | 27/33 [24:12<05:18, 53.01s/it]"
     ]
    },
    {
     "name": "stdout",
     "output_type": "stream",
     "text": [
      "...27/33\n"
     ]
    },
    {
     "name": "stderr",
     "output_type": "stream",
     "text": [
      "100%|██████████████████████████████████████████████████████████| 775/775 [00:49<00:00, 15.63it/s]\n",
      " 85%|██████████████████████████████████████████████████▉         | 28/33 [25:05<04:25, 53.02s/it]"
     ]
    },
    {
     "name": "stdout",
     "output_type": "stream",
     "text": [
      "...28/33\n"
     ]
    },
    {
     "name": "stderr",
     "output_type": "stream",
     "text": [
      "100%|██████████████████████████████████████████████████████████| 775/775 [00:49<00:00, 15.69it/s]\n",
      " 88%|████████████████████████████████████████████████████▋       | 29/33 [25:58<03:31, 52.98s/it]"
     ]
    },
    {
     "name": "stdout",
     "output_type": "stream",
     "text": [
      "...29/33\n"
     ]
    },
    {
     "name": "stderr",
     "output_type": "stream",
     "text": [
      "100%|██████████████████████████████████████████████████████████| 775/775 [00:49<00:00, 15.68it/s]\n",
      " 91%|██████████████████████████████████████████████████████▌     | 30/33 [26:51<02:38, 52.97s/it]"
     ]
    },
    {
     "name": "stdout",
     "output_type": "stream",
     "text": [
      "...30/33\n"
     ]
    },
    {
     "name": "stderr",
     "output_type": "stream",
     "text": [
      "100%|██████████████████████████████████████████████████████████| 775/775 [00:49<00:00, 15.57it/s]\n",
      " 94%|████████████████████████████████████████████████████████▎   | 31/33 [27:44<01:46, 53.05s/it]"
     ]
    },
    {
     "name": "stdout",
     "output_type": "stream",
     "text": [
      "...31/33\n"
     ]
    },
    {
     "name": "stderr",
     "output_type": "stream",
     "text": [
      "100%|██████████████████████████████████████████████████████████| 775/775 [00:50<00:00, 15.47it/s]\n",
      " 97%|██████████████████████████████████████████████████████████▏ | 32/33 [28:37<00:53, 53.21s/it]"
     ]
    },
    {
     "name": "stdout",
     "output_type": "stream",
     "text": [
      "...32/33\n"
     ]
    },
    {
     "name": "stderr",
     "output_type": "stream",
     "text": [
      "100%|██████████████████████████████████████████████████████████| 775/775 [00:50<00:00, 15.48it/s]\n",
      "100%|████████████████████████████████████████████████████████████| 33/33 [29:31<00:00, 53.68s/it]\n"
     ]
    }
   ],
   "source": [
    "from tqdm import tqdm\n",
    "import anndata\n",
    "\n",
    "if not os.path.exists('../simulated_datasets/LINCS/'):\n",
    "    os.makedirs('../simulated_datasets/LINCS/')\n",
    "\n",
    "with open('gene_symbol_ordering.txt', 'r') as f:\n",
    "    gene_ordering = json.load(f)\n",
    "        \n",
    "cl_idx = -1\n",
    "for cl in tqdm(cell_lines):\n",
    "    initialize_experiment.initialize_random_seed(0)\n",
    "    \n",
    "    cl_idx += 1\n",
    "    print('...{}/{}'.format(cl_idx, C))\n",
    "    cl_id = cell2idx[cl]\n",
    "    cl_tensor_src = torch.tensor([cl_id for _ in range(dl.train_dataset.max_unique_cont)]).to(device)\n",
    "    cl_tensor_tgt = torch.tensor([cl_id for _ in range(len(dosages_to_simulate))]).to(device)\n",
    "    \n",
    "    sim_drugs = []\n",
    "    sim_doses = []\n",
    "    sim_times = []\n",
    "    sim_expr = []\n",
    "\n",
    "    with tqdm(total=D, position=0, leave=True) as pbar:\n",
    "        for dr in drugs:\n",
    "            pbar.update()\n",
    "            dr_id = drug2idx[dr]\n",
    "            dr_tensor_tgt = torch.tensor([dr_id for _ in range(len(dosages_to_simulate))]).to(device)\n",
    "\n",
    "            if dr in sources[cl]:  # use this sequence as our starting point\n",
    "                src_dr = torch.tensor([dr_id for _ in range(dl.train_dataset.max_unique_cont)]).to(device)\n",
    "                drug_key = dr\n",
    "            else:  # pick a random drug\n",
    "                drug_key = np.random.choice(sorted(sources[cl].keys()))\n",
    "                src_dr = torch.tensor([drug2idx[drug_key] for _ in range(dl.train_dataset.max_unique_cont)]).to(device)\n",
    "            src_expr = sources[cl][drug_key][0]\n",
    "            src_dsg = sources[cl][drug_key][3]\n",
    "            src_time = sources[cl][drug_key][4]\n",
    "            src_mask = sources[cl][drug_key][5]\n",
    "\n",
    "            for treatment_time in treatment_times_to_simulate:\n",
    "                tgt_ttime = torch.tensor([treatment_time for _ in range(len(dosages_to_simulate))]).to(device)\n",
    "\n",
    "                gen, _, _ = sagittarius_manager.model.generate(\n",
    "                    src_expr.unsqueeze(0).float(), src_dsg.unsqueeze(0).float(),\n",
    "                    dosages_to_simulate.unsqueeze(0).float().to(device),\n",
    "                    [src_dr.unsqueeze(0), cl_tensor_src.unsqueeze(0)], \n",
    "                    [dr_tensor_tgt.unsqueeze(0), cl_tensor_tgt.unsqueeze(0)],\n",
    "                    old_other_ts=[src_time.unsqueeze(0).float()],\n",
    "                    new_other_ts=[tgt_ttime.unsqueeze(0).float()],\n",
    "                    old_mask=src_mask.unsqueeze(0), k=gen_k)\n",
    "\n",
    "                sim_drugs.extend([dr for _ in range(len(dosages_to_simulate))])\n",
    "                sim_doses.extend([d.item() for d in dosages_to_simulate])\n",
    "                sim_times.extend(treatment_time for _ in range(len(dosages_to_simulate)))\n",
    "                sim_expr.append(gen[0].detach().cpu().numpy())  # T' x M\n",
    "    \n",
    "    x = np.concatenate(sim_expr)\n",
    "    obsm = {'drugs': np.asarray(sim_drugs),\n",
    "            'doses': np.asarray(sim_doses),\n",
    "            'times': np.asarray(sim_times)}\n",
    "    var = pd.DataFrame.from_dict({'gene': gene_ordering})\n",
    "    \n",
    "    adata = anndata.AnnData(X=x, obsm=obsm, var=var)\n",
    "    adata.write('../simulated_datasets/LINCS/simulated_{}.h5ad'.format(cl))"
   ]
  },
  {
   "cell_type": "code",
   "execution_count": null,
   "id": "e73a234b",
   "metadata": {},
   "outputs": [],
   "source": []
  }
 ],
 "metadata": {
  "kernelspec": {
   "display_name": "Python 3 (ipykernel)",
   "language": "python",
   "name": "python3"
  },
  "language_info": {
   "codemirror_mode": {
    "name": "ipython",
    "version": 3
   },
   "file_extension": ".py",
   "mimetype": "text/x-python",
   "name": "python",
   "nbconvert_exporter": "python",
   "pygments_lexer": "ipython3",
   "version": "3.9.7"
  }
 },
 "nbformat": 4,
 "nbformat_minor": 5
}
